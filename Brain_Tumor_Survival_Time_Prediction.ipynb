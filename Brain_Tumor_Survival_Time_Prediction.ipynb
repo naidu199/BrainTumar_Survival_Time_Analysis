{
  "nbformat": 4,
  "nbformat_minor": 0,
  "metadata": {
    "colab": {
      "provenance": [],
      "mount_file_id": "https://github.com/naidu199/BrainTumar_Survival_Time_Analysis/blob/master/Brain_Tumor_Survival_Time_Prediction.ipynb",
      "authorship_tag": "ABX9TyOmFtlSrExoKaAIny2G5wWp",
      "include_colab_link": true
    },
    "kernelspec": {
      "name": "python3",
      "display_name": "Python 3"
    },
    "language_info": {
      "name": "python"
    }
  },
  "cells": [
    {
      "cell_type": "markdown",
      "metadata": {
        "id": "view-in-github",
        "colab_type": "text"
      },
      "source": [
        "<a href=\"https://colab.research.google.com/github/naidu199/BrainTumor_Survival_Time_Analysis/blob/master/Brain_Tumor_Survival_Time_Prediction.ipynb\" target=\"_parent\"><img src=\"https://colab.research.google.com/assets/colab-badge.svg\" alt=\"Open In Colab\"/></a>"
      ]
    },
    {
      "cell_type": "code",
      "execution_count": null,
      "metadata": {
        "id": "HRC0Rhla9dn_"
      },
      "outputs": [],
      "source": [
        "import numpy as np\n",
        "import pandas as pd\n",
        "import matplotlib.pyplot as plt\n",
        "import seaborn as sns\n"
      ]
    },
    {
      "cell_type": "markdown",
      "source": [],
      "metadata": {
        "id": "FEUC_13XQIG7"
      }
    },
    {
      "cell_type": "code",
      "source": [
        "df =pd.read_csv(\"/content/drive/MyDrive/BrainTumarData/BrainTumor.csv\")\n"
      ],
      "metadata": {
        "id": "PGm6-uCh-8DN"
      },
      "execution_count": null,
      "outputs": []
    },
    {
      "cell_type": "code",
      "source": [
        "df.head()"
      ],
      "metadata": {
        "colab": {
          "base_uri": "https://localhost:8080/",
          "height": 382
        },
        "id": "YKKBf3ZC_LfC",
        "outputId": "6cf2ab45-a06d-4b30-bae2-cef72afa91b6"
      },
      "execution_count": null,
      "outputs": [
        {
          "output_type": "execute_result",
          "data": {
            "text/plain": [
              "   Patient ID  Age  Gender    Tumor Type Tumor Grade  Tumor Location  \\\n",
              "0           1   45    Male  Glioblastoma          IV    Frontal lobe   \n",
              "1           2   55  Female    Meningioma           I   Parietal lobe   \n",
              "2           3   60    Male   Astrocytoma         III  Occipital lobe   \n",
              "3           4   50  Female  Glioblastoma          IV   Temporal lobe   \n",
              "4           5   65    Male   Astrocytoma          II    Frontal lobe   \n",
              "\n",
              "                     Treatment    Treatment Outcome  \\\n",
              "0                      Surgery     Partial response   \n",
              "1                      Surgery    Complete response   \n",
              "2       Surgery + Chemotherapy  Progressive disease   \n",
              "3  Surgery + Radiation therapy    Complete response   \n",
              "4  Surgery + Radiation therapy     Partial response   \n",
              "\n",
              "   Time to Recurrence (months) Recurrence Site  Survival Time (months)  \n",
              "0                         10.0   Temporal lobe                      18  \n",
              "1                          NaN             NaN                      36  \n",
              "2                         14.0    Frontal lobe                      22  \n",
              "3                          NaN             NaN                      12  \n",
              "4                         24.0    Frontal lobe                      48  "
            ],
            "text/html": [
              "\n",
              "  <div id=\"df-ac81896e-381e-4b2d-a216-fbd25840adcb\" class=\"colab-df-container\">\n",
              "    <div>\n",
              "<style scoped>\n",
              "    .dataframe tbody tr th:only-of-type {\n",
              "        vertical-align: middle;\n",
              "    }\n",
              "\n",
              "    .dataframe tbody tr th {\n",
              "        vertical-align: top;\n",
              "    }\n",
              "\n",
              "    .dataframe thead th {\n",
              "        text-align: right;\n",
              "    }\n",
              "</style>\n",
              "<table border=\"1\" class=\"dataframe\">\n",
              "  <thead>\n",
              "    <tr style=\"text-align: right;\">\n",
              "      <th></th>\n",
              "      <th>Patient ID</th>\n",
              "      <th>Age</th>\n",
              "      <th>Gender</th>\n",
              "      <th>Tumor Type</th>\n",
              "      <th>Tumor Grade</th>\n",
              "      <th>Tumor Location</th>\n",
              "      <th>Treatment</th>\n",
              "      <th>Treatment Outcome</th>\n",
              "      <th>Time to Recurrence (months)</th>\n",
              "      <th>Recurrence Site</th>\n",
              "      <th>Survival Time (months)</th>\n",
              "    </tr>\n",
              "  </thead>\n",
              "  <tbody>\n",
              "    <tr>\n",
              "      <th>0</th>\n",
              "      <td>1</td>\n",
              "      <td>45</td>\n",
              "      <td>Male</td>\n",
              "      <td>Glioblastoma</td>\n",
              "      <td>IV</td>\n",
              "      <td>Frontal lobe</td>\n",
              "      <td>Surgery</td>\n",
              "      <td>Partial response</td>\n",
              "      <td>10.0</td>\n",
              "      <td>Temporal lobe</td>\n",
              "      <td>18</td>\n",
              "    </tr>\n",
              "    <tr>\n",
              "      <th>1</th>\n",
              "      <td>2</td>\n",
              "      <td>55</td>\n",
              "      <td>Female</td>\n",
              "      <td>Meningioma</td>\n",
              "      <td>I</td>\n",
              "      <td>Parietal lobe</td>\n",
              "      <td>Surgery</td>\n",
              "      <td>Complete response</td>\n",
              "      <td>NaN</td>\n",
              "      <td>NaN</td>\n",
              "      <td>36</td>\n",
              "    </tr>\n",
              "    <tr>\n",
              "      <th>2</th>\n",
              "      <td>3</td>\n",
              "      <td>60</td>\n",
              "      <td>Male</td>\n",
              "      <td>Astrocytoma</td>\n",
              "      <td>III</td>\n",
              "      <td>Occipital lobe</td>\n",
              "      <td>Surgery + Chemotherapy</td>\n",
              "      <td>Progressive disease</td>\n",
              "      <td>14.0</td>\n",
              "      <td>Frontal lobe</td>\n",
              "      <td>22</td>\n",
              "    </tr>\n",
              "    <tr>\n",
              "      <th>3</th>\n",
              "      <td>4</td>\n",
              "      <td>50</td>\n",
              "      <td>Female</td>\n",
              "      <td>Glioblastoma</td>\n",
              "      <td>IV</td>\n",
              "      <td>Temporal lobe</td>\n",
              "      <td>Surgery + Radiation therapy</td>\n",
              "      <td>Complete response</td>\n",
              "      <td>NaN</td>\n",
              "      <td>NaN</td>\n",
              "      <td>12</td>\n",
              "    </tr>\n",
              "    <tr>\n",
              "      <th>4</th>\n",
              "      <td>5</td>\n",
              "      <td>65</td>\n",
              "      <td>Male</td>\n",
              "      <td>Astrocytoma</td>\n",
              "      <td>II</td>\n",
              "      <td>Frontal lobe</td>\n",
              "      <td>Surgery + Radiation therapy</td>\n",
              "      <td>Partial response</td>\n",
              "      <td>24.0</td>\n",
              "      <td>Frontal lobe</td>\n",
              "      <td>48</td>\n",
              "    </tr>\n",
              "  </tbody>\n",
              "</table>\n",
              "</div>\n",
              "    <div class=\"colab-df-buttons\">\n",
              "\n",
              "  <div class=\"colab-df-container\">\n",
              "    <button class=\"colab-df-convert\" onclick=\"convertToInteractive('df-ac81896e-381e-4b2d-a216-fbd25840adcb')\"\n",
              "            title=\"Convert this dataframe to an interactive table.\"\n",
              "            style=\"display:none;\">\n",
              "\n",
              "  <svg xmlns=\"http://www.w3.org/2000/svg\" height=\"24px\" viewBox=\"0 -960 960 960\">\n",
              "    <path d=\"M120-120v-720h720v720H120Zm60-500h600v-160H180v160Zm220 220h160v-160H400v160Zm0 220h160v-160H400v160ZM180-400h160v-160H180v160Zm440 0h160v-160H620v160ZM180-180h160v-160H180v160Zm440 0h160v-160H620v160Z\"/>\n",
              "  </svg>\n",
              "    </button>\n",
              "\n",
              "  <style>\n",
              "    .colab-df-container {\n",
              "      display:flex;\n",
              "      gap: 12px;\n",
              "    }\n",
              "\n",
              "    .colab-df-convert {\n",
              "      background-color: #E8F0FE;\n",
              "      border: none;\n",
              "      border-radius: 50%;\n",
              "      cursor: pointer;\n",
              "      display: none;\n",
              "      fill: #1967D2;\n",
              "      height: 32px;\n",
              "      padding: 0 0 0 0;\n",
              "      width: 32px;\n",
              "    }\n",
              "\n",
              "    .colab-df-convert:hover {\n",
              "      background-color: #E2EBFA;\n",
              "      box-shadow: 0px 1px 2px rgba(60, 64, 67, 0.3), 0px 1px 3px 1px rgba(60, 64, 67, 0.15);\n",
              "      fill: #174EA6;\n",
              "    }\n",
              "\n",
              "    .colab-df-buttons div {\n",
              "      margin-bottom: 4px;\n",
              "    }\n",
              "\n",
              "    [theme=dark] .colab-df-convert {\n",
              "      background-color: #3B4455;\n",
              "      fill: #D2E3FC;\n",
              "    }\n",
              "\n",
              "    [theme=dark] .colab-df-convert:hover {\n",
              "      background-color: #434B5C;\n",
              "      box-shadow: 0px 1px 3px 1px rgba(0, 0, 0, 0.15);\n",
              "      filter: drop-shadow(0px 1px 2px rgba(0, 0, 0, 0.3));\n",
              "      fill: #FFFFFF;\n",
              "    }\n",
              "  </style>\n",
              "\n",
              "    <script>\n",
              "      const buttonEl =\n",
              "        document.querySelector('#df-ac81896e-381e-4b2d-a216-fbd25840adcb button.colab-df-convert');\n",
              "      buttonEl.style.display =\n",
              "        google.colab.kernel.accessAllowed ? 'block' : 'none';\n",
              "\n",
              "      async function convertToInteractive(key) {\n",
              "        const element = document.querySelector('#df-ac81896e-381e-4b2d-a216-fbd25840adcb');\n",
              "        const dataTable =\n",
              "          await google.colab.kernel.invokeFunction('convertToInteractive',\n",
              "                                                    [key], {});\n",
              "        if (!dataTable) return;\n",
              "\n",
              "        const docLinkHtml = 'Like what you see? Visit the ' +\n",
              "          '<a target=\"_blank\" href=https://colab.research.google.com/notebooks/data_table.ipynb>data table notebook</a>'\n",
              "          + ' to learn more about interactive tables.';\n",
              "        element.innerHTML = '';\n",
              "        dataTable['output_type'] = 'display_data';\n",
              "        await google.colab.output.renderOutput(dataTable, element);\n",
              "        const docLink = document.createElement('div');\n",
              "        docLink.innerHTML = docLinkHtml;\n",
              "        element.appendChild(docLink);\n",
              "      }\n",
              "    </script>\n",
              "  </div>\n",
              "\n",
              "\n",
              "<div id=\"df-a6abd7de-ab00-4a62-bd3c-2fd30bfb786f\">\n",
              "  <button class=\"colab-df-quickchart\" onclick=\"quickchart('df-a6abd7de-ab00-4a62-bd3c-2fd30bfb786f')\"\n",
              "            title=\"Suggest charts\"\n",
              "            style=\"display:none;\">\n",
              "\n",
              "<svg xmlns=\"http://www.w3.org/2000/svg\" height=\"24px\"viewBox=\"0 0 24 24\"\n",
              "     width=\"24px\">\n",
              "    <g>\n",
              "        <path d=\"M19 3H5c-1.1 0-2 .9-2 2v14c0 1.1.9 2 2 2h14c1.1 0 2-.9 2-2V5c0-1.1-.9-2-2-2zM9 17H7v-7h2v7zm4 0h-2V7h2v10zm4 0h-2v-4h2v4z\"/>\n",
              "    </g>\n",
              "</svg>\n",
              "  </button>\n",
              "\n",
              "<style>\n",
              "  .colab-df-quickchart {\n",
              "      --bg-color: #E8F0FE;\n",
              "      --fill-color: #1967D2;\n",
              "      --hover-bg-color: #E2EBFA;\n",
              "      --hover-fill-color: #174EA6;\n",
              "      --disabled-fill-color: #AAA;\n",
              "      --disabled-bg-color: #DDD;\n",
              "  }\n",
              "\n",
              "  [theme=dark] .colab-df-quickchart {\n",
              "      --bg-color: #3B4455;\n",
              "      --fill-color: #D2E3FC;\n",
              "      --hover-bg-color: #434B5C;\n",
              "      --hover-fill-color: #FFFFFF;\n",
              "      --disabled-bg-color: #3B4455;\n",
              "      --disabled-fill-color: #666;\n",
              "  }\n",
              "\n",
              "  .colab-df-quickchart {\n",
              "    background-color: var(--bg-color);\n",
              "    border: none;\n",
              "    border-radius: 50%;\n",
              "    cursor: pointer;\n",
              "    display: none;\n",
              "    fill: var(--fill-color);\n",
              "    height: 32px;\n",
              "    padding: 0;\n",
              "    width: 32px;\n",
              "  }\n",
              "\n",
              "  .colab-df-quickchart:hover {\n",
              "    background-color: var(--hover-bg-color);\n",
              "    box-shadow: 0 1px 2px rgba(60, 64, 67, 0.3), 0 1px 3px 1px rgba(60, 64, 67, 0.15);\n",
              "    fill: var(--button-hover-fill-color);\n",
              "  }\n",
              "\n",
              "  .colab-df-quickchart-complete:disabled,\n",
              "  .colab-df-quickchart-complete:disabled:hover {\n",
              "    background-color: var(--disabled-bg-color);\n",
              "    fill: var(--disabled-fill-color);\n",
              "    box-shadow: none;\n",
              "  }\n",
              "\n",
              "  .colab-df-spinner {\n",
              "    border: 2px solid var(--fill-color);\n",
              "    border-color: transparent;\n",
              "    border-bottom-color: var(--fill-color);\n",
              "    animation:\n",
              "      spin 1s steps(1) infinite;\n",
              "  }\n",
              "\n",
              "  @keyframes spin {\n",
              "    0% {\n",
              "      border-color: transparent;\n",
              "      border-bottom-color: var(--fill-color);\n",
              "      border-left-color: var(--fill-color);\n",
              "    }\n",
              "    20% {\n",
              "      border-color: transparent;\n",
              "      border-left-color: var(--fill-color);\n",
              "      border-top-color: var(--fill-color);\n",
              "    }\n",
              "    30% {\n",
              "      border-color: transparent;\n",
              "      border-left-color: var(--fill-color);\n",
              "      border-top-color: var(--fill-color);\n",
              "      border-right-color: var(--fill-color);\n",
              "    }\n",
              "    40% {\n",
              "      border-color: transparent;\n",
              "      border-right-color: var(--fill-color);\n",
              "      border-top-color: var(--fill-color);\n",
              "    }\n",
              "    60% {\n",
              "      border-color: transparent;\n",
              "      border-right-color: var(--fill-color);\n",
              "    }\n",
              "    80% {\n",
              "      border-color: transparent;\n",
              "      border-right-color: var(--fill-color);\n",
              "      border-bottom-color: var(--fill-color);\n",
              "    }\n",
              "    90% {\n",
              "      border-color: transparent;\n",
              "      border-bottom-color: var(--fill-color);\n",
              "    }\n",
              "  }\n",
              "</style>\n",
              "\n",
              "  <script>\n",
              "    async function quickchart(key) {\n",
              "      const quickchartButtonEl =\n",
              "        document.querySelector('#' + key + ' button');\n",
              "      quickchartButtonEl.disabled = true;  // To prevent multiple clicks.\n",
              "      quickchartButtonEl.classList.add('colab-df-spinner');\n",
              "      try {\n",
              "        const charts = await google.colab.kernel.invokeFunction(\n",
              "            'suggestCharts', [key], {});\n",
              "      } catch (error) {\n",
              "        console.error('Error during call to suggestCharts:', error);\n",
              "      }\n",
              "      quickchartButtonEl.classList.remove('colab-df-spinner');\n",
              "      quickchartButtonEl.classList.add('colab-df-quickchart-complete');\n",
              "    }\n",
              "    (() => {\n",
              "      let quickchartButtonEl =\n",
              "        document.querySelector('#df-a6abd7de-ab00-4a62-bd3c-2fd30bfb786f button');\n",
              "      quickchartButtonEl.style.display =\n",
              "        google.colab.kernel.accessAllowed ? 'block' : 'none';\n",
              "    })();\n",
              "  </script>\n",
              "</div>\n",
              "\n",
              "    </div>\n",
              "  </div>\n"
            ],
            "application/vnd.google.colaboratory.intrinsic+json": {
              "type": "dataframe",
              "variable_name": "df",
              "summary": "{\n  \"name\": \"df\",\n  \"rows\": 2000,\n  \"fields\": [\n    {\n      \"column\": \"Patient ID\",\n      \"properties\": {\n        \"dtype\": \"number\",\n        \"std\": 577,\n        \"min\": 1,\n        \"max\": 2000,\n        \"num_unique_values\": 2000,\n        \"samples\": [\n          1861,\n          354,\n          1334\n        ],\n        \"semantic_type\": \"\",\n        \"description\": \"\"\n      }\n    },\n    {\n      \"column\": \"Age\",\n      \"properties\": {\n        \"dtype\": \"number\",\n        \"std\": 6,\n        \"min\": 42,\n        \"max\": 72,\n        \"num_unique_values\": 31,\n        \"samples\": [\n          69,\n          49,\n          64\n        ],\n        \"semantic_type\": \"\",\n        \"description\": \"\"\n      }\n    },\n    {\n      \"column\": \"Gender\",\n      \"properties\": {\n        \"dtype\": \"category\",\n        \"num_unique_values\": 2,\n        \"samples\": [\n          \"Female\",\n          \"Male\"\n        ],\n        \"semantic_type\": \"\",\n        \"description\": \"\"\n      }\n    },\n    {\n      \"column\": \"Tumor Type\",\n      \"properties\": {\n        \"dtype\": \"category\",\n        \"num_unique_values\": 3,\n        \"samples\": [\n          \"Glioblastoma\",\n          \"Meningioma\"\n        ],\n        \"semantic_type\": \"\",\n        \"description\": \"\"\n      }\n    },\n    {\n      \"column\": \"Tumor Grade\",\n      \"properties\": {\n        \"dtype\": \"category\",\n        \"num_unique_values\": 4,\n        \"samples\": [\n          \"I\",\n          \"II\"\n        ],\n        \"semantic_type\": \"\",\n        \"description\": \"\"\n      }\n    },\n    {\n      \"column\": \"Tumor Location\",\n      \"properties\": {\n        \"dtype\": \"category\",\n        \"num_unique_values\": 4,\n        \"samples\": [\n          \"Parietal lobe\",\n          \"Temporal lobe\"\n        ],\n        \"semantic_type\": \"\",\n        \"description\": \"\"\n      }\n    },\n    {\n      \"column\": \"Treatment\",\n      \"properties\": {\n        \"dtype\": \"category\",\n        \"num_unique_values\": 7,\n        \"samples\": [\n          \"Surgery\",\n          \"Surgery + Chemotherapy\"\n        ],\n        \"semantic_type\": \"\",\n        \"description\": \"\"\n      }\n    },\n    {\n      \"column\": \"Treatment Outcome\",\n      \"properties\": {\n        \"dtype\": \"category\",\n        \"num_unique_values\": 4,\n        \"samples\": [\n          \"Complete response\",\n          \"Stable disease\"\n        ],\n        \"semantic_type\": \"\",\n        \"description\": \"\"\n      }\n    },\n    {\n      \"column\": \"Time to Recurrence (months)\",\n      \"properties\": {\n        \"dtype\": \"number\",\n        \"std\": 3.1282913973545194,\n        \"min\": 6.0,\n        \"max\": 36.0,\n        \"num_unique_values\": 13,\n        \"samples\": [\n          22.0,\n          20.0\n        ],\n        \"semantic_type\": \"\",\n        \"description\": \"\"\n      }\n    },\n    {\n      \"column\": \"Recurrence Site\",\n      \"properties\": {\n        \"dtype\": \"category\",\n        \"num_unique_values\": 4,\n        \"samples\": [\n          \"Frontal lobe\",\n          \"Occipital lobe\"\n        ],\n        \"semantic_type\": \"\",\n        \"description\": \"\"\n      }\n    },\n    {\n      \"column\": \"Survival Time (months)\",\n      \"properties\": {\n        \"dtype\": \"number\",\n        \"std\": 8,\n        \"min\": 9,\n        \"max\": 72,\n        \"num_unique_values\": 19,\n        \"samples\": [\n          18,\n          15\n        ],\n        \"semantic_type\": \"\",\n        \"description\": \"\"\n      }\n    }\n  ]\n}"
            }
          },
          "metadata": {},
          "execution_count": 6
        }
      ]
    },
    {
      "cell_type": "code",
      "source": [
        "df.info()"
      ],
      "metadata": {
        "colab": {
          "base_uri": "https://localhost:8080/"
        },
        "id": "KPj3c1HC_T2E",
        "outputId": "cd6affaf-2a97-4fba-a285-75f56953d766"
      },
      "execution_count": null,
      "outputs": [
        {
          "output_type": "stream",
          "name": "stdout",
          "text": [
            "<class 'pandas.core.frame.DataFrame'>\n",
            "RangeIndex: 2000 entries, 0 to 1999\n",
            "Data columns (total 11 columns):\n",
            " #   Column                       Non-Null Count  Dtype  \n",
            "---  ------                       --------------  -----  \n",
            " 0   Patient ID                   2000 non-null   int64  \n",
            " 1   Age                          2000 non-null   int64  \n",
            " 2   Gender                       2000 non-null   object \n",
            " 3   Tumor Type                   2000 non-null   object \n",
            " 4   Tumor Grade                  2000 non-null   object \n",
            " 5   Tumor Location               2000 non-null   object \n",
            " 6   Treatment                    2000 non-null   object \n",
            " 7   Treatment Outcome            2000 non-null   object \n",
            " 8   Time to Recurrence (months)  1438 non-null   float64\n",
            " 9   Recurrence Site              1438 non-null   object \n",
            " 10  Survival Time (months)       2000 non-null   int64  \n",
            "dtypes: float64(1), int64(3), object(7)\n",
            "memory usage: 172.0+ KB\n"
          ]
        }
      ]
    },
    {
      "cell_type": "markdown",
      "source": [
        "#Data Preprocessing"
      ],
      "metadata": {
        "id": "AqUa7FKcGbMj"
      }
    },
    {
      "cell_type": "code",
      "source": [
        "#finding the null values in the data set\n",
        "df.isnull().sum()"
      ],
      "metadata": {
        "colab": {
          "base_uri": "https://localhost:8080/"
        },
        "id": "r_hu1I6C_Vq9",
        "outputId": "b288708b-bb89-4b80-daea-33b4be13057a"
      },
      "execution_count": null,
      "outputs": [
        {
          "output_type": "execute_result",
          "data": {
            "text/plain": [
              "Patient ID                       0\n",
              "Age                              0\n",
              "Gender                           0\n",
              "Tumor Type                       0\n",
              "Tumor Grade                      0\n",
              "Tumor Location                   0\n",
              "Treatment                        0\n",
              "Treatment Outcome                0\n",
              "Time to Recurrence (months)    562\n",
              "Recurrence Site                562\n",
              "Survival Time (months)           0\n",
              "dtype: int64"
            ]
          },
          "metadata": {},
          "execution_count": 8
        }
      ]
    },
    {
      "cell_type": "code",
      "source": [
        "#removing the  null values\n",
        "df['Time to Recurrence (months)'].fillna(df['Time to Recurrence (months)'].mean(), inplace=True)\n",
        "\n",
        "# # Fill 'Recurrence Site' with 'None'\n",
        "# df['Recurrence Site'].fillna('None', inplace=True)\n",
        "\n",
        "# Fill 'Age' with median\n",
        "df['Age'].fillna(df['Age'].median(), inplace=True)\n",
        "\n",
        "# Fill categorical columns with mode\n",
        "categorical_columns = ['Gender', 'Tumor Type', 'Tumor Grade', 'Tumor Location', 'Treatment', 'Treatment Outcome']\n",
        "for col in categorical_columns:\n",
        "    df[col].fillna(df[col].mode()[0], inplace=True)\n",
        "#identifying the most repeated value and replacing it with the null values"
      ],
      "metadata": {
        "id": "Tcjz3JMI_43-"
      },
      "execution_count": null,
      "outputs": []
    },
    {
      "cell_type": "code",
      "source": [
        "df.isnull().sum()"
      ],
      "metadata": {
        "colab": {
          "base_uri": "https://localhost:8080/"
        },
        "id": "ZAinr4CeE9NZ",
        "outputId": "1521265d-6144-4ef5-c8b6-e40fb7907908"
      },
      "execution_count": null,
      "outputs": [
        {
          "output_type": "execute_result",
          "data": {
            "text/plain": [
              "Patient ID                       0\n",
              "Age                              0\n",
              "Gender                           0\n",
              "Tumor Type                       0\n",
              "Tumor Grade                      0\n",
              "Tumor Location                   0\n",
              "Treatment                        0\n",
              "Treatment Outcome                0\n",
              "Time to Recurrence (months)      0\n",
              "Recurrence Site                562\n",
              "Survival Time (months)           0\n",
              "dtype: int64"
            ]
          },
          "metadata": {},
          "execution_count": 10
        }
      ]
    },
    {
      "cell_type": "markdown",
      "source": [
        "**One-Hot Encoding ** is useful if the model does not handle categorical data natively and you want to avoid ordinal relationships.\n",
        "\n",
        "**Label Encoding ** can be used if you prefer a simpler approach, but it introduces ordinal relationships where none may exist."
      ],
      "metadata": {
        "id": "hRLswqCqGu52"
      }
    },
    {
      "cell_type": "code",
      "source": [
        "#Libraries for the encoding the data\n",
        "from sklearn.preprocessing import OneHotEncoder, LabelEncoder\n"
      ],
      "metadata": {
        "id": "6qbI7aGLFEKp"
      },
      "execution_count": null,
      "outputs": []
    },
    {
      "cell_type": "code",
      "source": [
        "#gender encoding\n",
        "label_encoder = LabelEncoder()\n",
        "df['Gender_encoded'] = label_encoder.fit_transform(df['Gender'])"
      ],
      "metadata": {
        "id": "4NztvTIJLs1C"
      },
      "execution_count": null,
      "outputs": []
    },
    {
      "cell_type": "code",
      "source": [
        "#Tumor types do not have an ordinal relationship\n",
        "encoder = OneHotEncoder(sparse=False, drop='first')\n",
        "encoded_tumor_type = encoder.fit_transform(df[['Tumor Type']])\n",
        "df_encoded_tumor_type = pd.DataFrame(encoded_tumor_type, columns=encoder.get_feature_names_out(['Tumor Type']))\n"
      ],
      "metadata": {
        "colab": {
          "base_uri": "https://localhost:8080/"
        },
        "id": "3taFnrYBLzV_",
        "outputId": "ae32188f-5938-4972-e645-bd0388ff86d0"
      },
      "execution_count": null,
      "outputs": [
        {
          "output_type": "stream",
          "name": "stderr",
          "text": [
            "/usr/local/lib/python3.10/dist-packages/sklearn/preprocessing/_encoders.py:868: FutureWarning: `sparse` was renamed to `sparse_output` in version 1.2 and will be removed in 1.4. `sparse_output` is ignored unless you leave `sparse` to its default value.\n",
            "  warnings.warn(\n"
          ]
        }
      ]
    },
    {
      "cell_type": "code",
      "source": [
        "#Tumor Grade encoding label encoding\n",
        "from sklearn.preprocessing import OrdinalEncoder\n",
        "\n",
        "encoder = OrdinalEncoder()\n",
        "df['Tumor Grade_encoded'] = encoder.fit_transform(df[['Tumor Grade']])"
      ],
      "metadata": {
        "id": "bBdPN8zKM25y"
      },
      "execution_count": null,
      "outputs": []
    },
    {
      "cell_type": "code",
      "source": [
        "#Tumor Location encoding\n",
        "encoder = OneHotEncoder(sparse=False, drop='first')\n",
        "encoded_tumor_location = encoder.fit_transform(df[['Tumor Location']])\n",
        "df_encoded_tumor_location = pd.DataFrame(encoded_tumor_location, columns=encoder.get_feature_names_out(['Tumor Location']))\n"
      ],
      "metadata": {
        "colab": {
          "base_uri": "https://localhost:8080/"
        },
        "id": "7RYMdoZUM6XY",
        "outputId": "f71638be-bc45-43d4-db12-2fac4e2dae76"
      },
      "execution_count": null,
      "outputs": [
        {
          "output_type": "stream",
          "name": "stderr",
          "text": [
            "/usr/local/lib/python3.10/dist-packages/sklearn/preprocessing/_encoders.py:868: FutureWarning: `sparse` was renamed to `sparse_output` in version 1.2 and will be removed in 1.4. `sparse_output` is ignored unless you leave `sparse` to its default value.\n",
            "  warnings.warn(\n"
          ]
        }
      ]
    },
    {
      "cell_type": "code",
      "source": [
        "#Treatment encoding\n",
        "encoder = OneHotEncoder(sparse=False, drop='first')\n",
        "encoded_treatment = encoder.fit_transform(df[['Treatment']])\n",
        "df_encoded_treatment = pd.DataFrame(encoded_treatment, columns=encoder.get_feature_names_out(['Treatment']))\n"
      ],
      "metadata": {
        "colab": {
          "base_uri": "https://localhost:8080/"
        },
        "id": "najktEcaNUyU",
        "outputId": "3c9f1380-6a65-4023-c94d-45f1d23fc653"
      },
      "execution_count": null,
      "outputs": [
        {
          "output_type": "stream",
          "name": "stderr",
          "text": [
            "/usr/local/lib/python3.10/dist-packages/sklearn/preprocessing/_encoders.py:868: FutureWarning: `sparse` was renamed to `sparse_output` in version 1.2 and will be removed in 1.4. `sparse_output` is ignored unless you leave `sparse` to its default value.\n",
            "  warnings.warn(\n"
          ]
        }
      ]
    },
    {
      "cell_type": "code",
      "source": [
        "# Treatment Outcome\n",
        "encoder = OneHotEncoder(sparse=False, drop='first')\n",
        "encoded_treatment_outcome = encoder.fit_transform(df[['Treatment Outcome']])\n",
        "df_encoded_treatment_outcome = pd.DataFrame(encoded_treatment_outcome, columns=encoder.get_feature_names_out(['Treatment Outcome']))\n"
      ],
      "metadata": {
        "colab": {
          "base_uri": "https://localhost:8080/"
        },
        "id": "R8NZgYsrNsYp",
        "outputId": "d291322c-0832-4ad7-bd36-60fab08b1a96"
      },
      "execution_count": null,
      "outputs": [
        {
          "output_type": "stream",
          "name": "stderr",
          "text": [
            "/usr/local/lib/python3.10/dist-packages/sklearn/preprocessing/_encoders.py:868: FutureWarning: `sparse` was renamed to `sparse_output` in version 1.2 and will be removed in 1.4. `sparse_output` is ignored unless you leave `sparse` to its default value.\n",
            "  warnings.warn(\n"
          ]
        }
      ]
    },
    {
      "cell_type": "code",
      "source": [
        "import pandas as pd\n",
        "\n",
        "# Assuming df is your original DataFrame and the following DataFrames contain the encoded columns:\n",
        "# df_encoded_gender, df_encoded_tumor_type, df_encoded_tumor_location, df_encoded_treatment, df_encoded_treatment_outcome\n",
        "\n",
        "# Create a new DataFrame excluding the categorical columns\n",
        "df_non_categorical = df.drop(columns=[\n",
        "    'Patient ID',\n",
        "    'Gender',\n",
        "    'Tumor Type',\n",
        "    'Tumor Grade',\n",
        "    'Tumor Location',\n",
        "    'Treatment',\n",
        "    'Treatment Outcome',\n",
        "    'Recurrence Site'\n",
        "])\n",
        "\n",
        "# Concatenate the non-categorical columns with the encoded DataFrames\n",
        "df_encoded = pd.concat([\n",
        "    df_non_categorical,\n",
        "    df_encoded_tumor_type,\n",
        "    df_encoded_tumor_location,\n",
        "    df_encoded_treatment,\n",
        "    df_encoded_treatment_outcome\n",
        "], axis=1)\n",
        "\n",
        "# Add the ordinally encoded Tumor Grade\n",
        "df_encoded['Tumor Grade_encoded'] = df['Tumor Grade_encoded']\n",
        "\n",
        "# Ensure Survival Time (months) is included\n",
        "df_encoded['Survival Time (months)'] = df['Survival Time (months)']\n",
        "\n",
        "# Print the new DataFrame with encoded values\n",
        "\n"
      ],
      "metadata": {
        "id": "gXnXWMwjNzUR"
      },
      "execution_count": null,
      "outputs": []
    },
    {
      "cell_type": "code",
      "source": [
        "print(\"Shape of the encoded DataFrame:\", df_encoded.shape)\n",
        "print(\"Columns in the encoded DataFrame:\", df_encoded.columns.tolist())\n",
        "\n",
        "# Print a small subset of the DataFrame\n",
        "# print(df_encoded.head(5))"
      ],
      "metadata": {
        "colab": {
          "base_uri": "https://localhost:8080/"
        },
        "id": "huNY81cHQb1R",
        "outputId": "3bd98274-780f-4d96-d47c-4ac2bbfdc807"
      },
      "execution_count": null,
      "outputs": [
        {
          "output_type": "stream",
          "name": "stdout",
          "text": [
            "Shape of the encoded DataFrame: (2000, 19)\n",
            "Columns in the encoded DataFrame: ['Age', 'Time to Recurrence (months)', 'Survival Time (months)', 'Gender_encoded', 'Tumor Grade_encoded', 'Tumor Type_Glioblastoma', 'Tumor Type_Meningioma', 'Tumor Location_Occipital lobe', 'Tumor Location_Parietal lobe', 'Tumor Location_Temporal lobe', 'Treatment_Chemotherapy + Radiation', 'Treatment_Radiation', 'Treatment_Surgery', 'Treatment_Surgery + Chemotherapy', 'Treatment_Surgery + Radiation', 'Treatment_Surgery + Radiation therapy', 'Treatment Outcome_Partial response', 'Treatment Outcome_Progressive disease', 'Treatment Outcome_Stable disease']\n"
          ]
        }
      ]
    },
    {
      "cell_type": "code",
      "source": [
        "#droping any duplicate columns\n",
        "\n",
        "df_encoded = df_encoded.loc[:,~df_encoded.columns.duplicated()]"
      ],
      "metadata": {
        "id": "r7p1WxqwPHL_"
      },
      "execution_count": null,
      "outputs": []
    },
    {
      "cell_type": "code",
      "source": [
        "#spliting featues and the target varibles\n",
        "\n",
        "X = df_encoded.drop(columns=['Survival Time (months)'])\n",
        "Y = df_encoded['Survival Time (months)']\n"
      ],
      "metadata": {
        "id": "w7xncMa2R54Y"
      },
      "execution_count": null,
      "outputs": []
    },
    {
      "cell_type": "code",
      "source": [
        "X.shape, Y.shape"
      ],
      "metadata": {
        "colab": {
          "base_uri": "https://localhost:8080/"
        },
        "id": "RpScK_q3SF6I",
        "outputId": "a54eadac-38dd-4a81-dacd-5892e14e13d9"
      },
      "execution_count": null,
      "outputs": [
        {
          "output_type": "execute_result",
          "data": {
            "text/plain": [
              "((2000, 18), (2000,))"
            ]
          },
          "metadata": {},
          "execution_count": 22
        }
      ]
    },
    {
      "cell_type": "code",
      "source": [
        "# standardize the feature to make all the features a single range values\n",
        "from sklearn.preprocessing import StandardScaler\n",
        "scaler = StandardScaler()\n",
        "X_scaled = scaler.fit_transform(X)\n",
        "\n",
        "# Convert the scaled features back into a DataFrame\n",
        "X_scaled_df = pd.DataFrame(X_scaled, columns=X.columns)"
      ],
      "metadata": {
        "id": "o4IlNzjvSIp2"
      },
      "execution_count": null,
      "outputs": []
    },
    {
      "cell_type": "code",
      "source": [
        "\n",
        "print(X.dtypes)\n"
      ],
      "metadata": {
        "colab": {
          "base_uri": "https://localhost:8080/"
        },
        "id": "xbq-Fi-dSoti",
        "outputId": "45f69ec0-6829-4495-d0b7-6c5dee89acb5"
      },
      "execution_count": null,
      "outputs": [
        {
          "output_type": "stream",
          "name": "stdout",
          "text": [
            "Age                                        int64\n",
            "Time to Recurrence (months)              float64\n",
            "Gender_encoded                             int64\n",
            "Tumor Grade_encoded                      float64\n",
            "Tumor Type_Glioblastoma                  float64\n",
            "Tumor Type_Meningioma                    float64\n",
            "Tumor Location_Occipital lobe            float64\n",
            "Tumor Location_Parietal lobe             float64\n",
            "Tumor Location_Temporal lobe             float64\n",
            "Treatment_Chemotherapy + Radiation       float64\n",
            "Treatment_Radiation                      float64\n",
            "Treatment_Surgery                        float64\n",
            "Treatment_Surgery + Chemotherapy         float64\n",
            "Treatment_Surgery + Radiation            float64\n",
            "Treatment_Surgery + Radiation therapy    float64\n",
            "Treatment Outcome_Partial response       float64\n",
            "Treatment Outcome_Progressive disease    float64\n",
            "Treatment Outcome_Stable disease         float64\n",
            "dtype: object\n"
          ]
        }
      ]
    },
    {
      "cell_type": "code",
      "source": [
        "!pip install tqdm\n"
      ],
      "metadata": {
        "colab": {
          "base_uri": "https://localhost:8080/"
        },
        "id": "xOLEIGKtS4KI",
        "outputId": "c05777f1-5ce0-4b11-feab-76233d691b31"
      },
      "execution_count": null,
      "outputs": [
        {
          "output_type": "stream",
          "name": "stdout",
          "text": [
            "Requirement already satisfied: tqdm in /usr/local/lib/python3.10/dist-packages (4.66.4)\n"
          ]
        }
      ]
    },
    {
      "cell_type": "markdown",
      "source": [
        "training and testing the model with the kfold"
      ],
      "metadata": {
        "id": "DQeQEvVTUzHs"
      }
    },
    {
      "cell_type": "code",
      "source": [
        "from sklearn.model_selection import KFold\n",
        "from sklearn.metrics import mean_squared_error, r2_score\n",
        "from sklearn.linear_model import LinearRegression\n",
        "from tqdm import tqdm"
      ],
      "metadata": {
        "id": "cQJ4YPTbXCgA"
      },
      "execution_count": null,
      "outputs": []
    },
    {
      "cell_type": "markdown",
      "source": [
        "cross_validate_model for the training and testing the data with differt models"
      ],
      "metadata": {
        "id": "v79BGl5_XFQv"
      }
    },
    {
      "cell_type": "code",
      "source": [
        "\n",
        "\n",
        "def cross_validate_model(model, X, y, n_splits=5, random_state=42):\n",
        "    \"\"\"\n",
        "    Perform K-Fold cross-validation on the given model.\n",
        "\n",
        "    Parameters:\n",
        "    - model: The regression model to be evaluated.\n",
        "    - X: Feature DataFrame.\n",
        "    - y: Target Series.\n",
        "    - n_splits: Number of folds for cross-validation.\n",
        "    - random_state: Random seed for reproducibility.\n",
        "\n",
        "    Returns:\n",
        "    - A tuple containing average Mean Squared Error and R² score.\n",
        "    \"\"\"\n",
        "    kf = KFold(n_splits=n_splits, shuffle=True, random_state=random_state)\n",
        "    mse_scores = []\n",
        "    r2_scores = []\n",
        "\n",
        "    for train_index, test_index in tqdm(kf.split(X), total=kf.get_n_splits(), desc=\"Cross-Validation Progress\"):\n",
        "        X_train, X_test = X.iloc[train_index], X.iloc[test_index]\n",
        "        y_train, y_test = y.iloc[train_index], y.iloc[test_index]\n",
        "\n",
        "        model.fit(X_train, y_train)\n",
        "        predictions = model.predict(X_test)\n",
        "\n",
        "        mse_score = mean_squared_error(y_test, predictions)\n",
        "        r2_score_value = r2_score(y_test, predictions)\n",
        "\n",
        "        mse_scores.append(mse_score)\n",
        "        r2_scores.append(r2_score_value)\n",
        "\n",
        "        print(f\"Fold Mean Squared Error: {mse_score:.4f}\")\n",
        "        print(f\"Fold R² Score: {r2_score_value:.4f}\")\n",
        "\n",
        "    avg_mse = np.mean(mse_scores)\n",
        "    avg_r2 = np.mean(r2_scores)\n",
        "\n",
        "    print(f\"Average Mean Squared Error: {avg_mse:.4f}\")\n",
        "    print(f\"Average R² Score: {avg_r2:.4f}\")\n",
        "\n",
        "    return avg_mse, avg_r2\n"
      ],
      "metadata": {
        "id": "x07qu1-wUqmw"
      },
      "execution_count": null,
      "outputs": []
    },
    {
      "cell_type": "markdown",
      "source": [
        "LinearRegression"
      ],
      "metadata": {
        "id": "Y0Y0oGaNX0tJ"
      }
    },
    {
      "cell_type": "code",
      "source": [
        "from sklearn.linear_model import LinearRegression\n",
        "\n",
        "\n",
        "# Assuming X_scaled_df and y are already defined\n",
        "\n",
        "# Test Linear Regression\n",
        "print(\"Testing Linear Regression\")\n",
        "linear_model = LinearRegression()\n",
        "result= cross_validate_model(linear_model, X_scaled_df, Y)\n",
        "\n",
        "print(\"Linear Regression\",  result)\n",
        "\n",
        "\n",
        "\n",
        "\n"
      ],
      "metadata": {
        "colab": {
          "base_uri": "https://localhost:8080/"
        },
        "id": "PH1DmizEVdrS",
        "outputId": "8b02a248-b7ab-4d38-85f6-f7ad3b7a68b1"
      },
      "execution_count": null,
      "outputs": [
        {
          "output_type": "stream",
          "name": "stdout",
          "text": [
            "Testing Linear Regression\n"
          ]
        },
        {
          "output_type": "stream",
          "name": "stderr",
          "text": [
            "Cross-Validation Progress: 100%|██████████| 5/5 [00:00<00:00, 65.75it/s]"
          ]
        },
        {
          "output_type": "stream",
          "name": "stdout",
          "text": [
            "Fold Mean Squared Error: 52.8005\n",
            "Fold R² Score: 0.3079\n",
            "Fold Mean Squared Error: 50.7001\n",
            "Fold R² Score: 0.3076\n",
            "Fold Mean Squared Error: 49.7379\n",
            "Fold R² Score: 0.3802\n",
            "Fold Mean Squared Error: 52.7643\n",
            "Fold R² Score: 0.2891\n",
            "Fold Mean Squared Error: 43.7026\n",
            "Fold R² Score: 0.3307\n",
            "Average Mean Squared Error: 49.9411\n",
            "Average R² Score: 0.3231\n",
            "Linear Regression (49.94107611082522, 0.32311284140427554)\n"
          ]
        },
        {
          "output_type": "stream",
          "name": "stderr",
          "text": [
            "\n"
          ]
        }
      ]
    },
    {
      "cell_type": "markdown",
      "source": [
        "DecisionTreeRegressor"
      ],
      "metadata": {
        "id": "XzeS2C-HX4XX"
      }
    },
    {
      "cell_type": "code",
      "source": [
        "from sklearn.tree import DecisionTreeRegressor\n",
        "# Test Decision Tree Regressor\n",
        "print(\"\\nTesting Decision Tree Regressor\")\n",
        "decision_tree_model = DecisionTreeRegressor()\n",
        "result=cross_validate_model(decision_tree_model, X_scaled_df, Y)\n",
        "\n",
        "print(\" DecisionTreeRegressor\",  result)"
      ],
      "metadata": {
        "colab": {
          "base_uri": "https://localhost:8080/"
        },
        "id": "igcF8VOJX7as",
        "outputId": "aa4e89bd-da8e-46fc-8c7a-78b649c43bf4"
      },
      "execution_count": null,
      "outputs": [
        {
          "output_type": "stream",
          "name": "stdout",
          "text": [
            "\n",
            "Testing Decision Tree Regressor\n"
          ]
        },
        {
          "output_type": "stream",
          "name": "stderr",
          "text": [
            "\rCross-Validation Progress:   0%|          | 0/5 [00:00<?, ?it/s]"
          ]
        },
        {
          "output_type": "stream",
          "name": "stdout",
          "text": [
            "Fold Mean Squared Error: 16.6434\n",
            "Fold R² Score: 0.7818\n",
            "Fold Mean Squared Error: 13.5396\n",
            "Fold R² Score: 0.8151\n",
            "Fold Mean Squared Error: 33.7256\n",
            "Fold R² Score: 0.5797\n",
            "Fold Mean Squared Error: 21.0281\n",
            "Fold R² Score: 0.7167\n"
          ]
        },
        {
          "output_type": "stream",
          "name": "stderr",
          "text": [
            "\rCross-Validation Progress: 100%|██████████| 5/5 [00:00<00:00, 104.46it/s]"
          ]
        },
        {
          "output_type": "stream",
          "name": "stdout",
          "text": [
            "Fold Mean Squared Error: 21.9702\n",
            "Fold R² Score: 0.6635\n",
            "Average Mean Squared Error: 21.3814\n",
            "Average R² Score: 0.7114\n",
            " DecisionTreeRegressor (21.381383646026563, 0.711381611255397)\n"
          ]
        },
        {
          "output_type": "stream",
          "name": "stderr",
          "text": [
            "\n"
          ]
        }
      ]
    },
    {
      "cell_type": "markdown",
      "source": [
        " RandomForestRegressor"
      ],
      "metadata": {
        "id": "kN1JaSmZX9cg"
      }
    },
    {
      "cell_type": "code",
      "source": [
        "from sklearn.ensemble import RandomForestRegressor\n",
        "# Test Random Forest Regressor\n",
        "print(\"\\nTesting Random Forest Regressor\")\n",
        "random_forest_model = RandomForestRegressor()\n",
        "result= cross_validate_model(random_forest_model, X_scaled_df, Y)\n",
        "\n",
        "\n",
        "print(\"RandomForestRegressor\",  result)"
      ],
      "metadata": {
        "colab": {
          "base_uri": "https://localhost:8080/"
        },
        "id": "GgdvSEQ_X_KW",
        "outputId": "69ff6918-f7c0-4e79-ebf3-304a1b8f0222"
      },
      "execution_count": null,
      "outputs": [
        {
          "output_type": "stream",
          "name": "stdout",
          "text": [
            "\n",
            "Testing Random Forest Regressor\n"
          ]
        },
        {
          "output_type": "stream",
          "name": "stderr",
          "text": [
            "Cross-Validation Progress:  20%|██        | 1/5 [00:00<00:01,  2.10it/s]"
          ]
        },
        {
          "output_type": "stream",
          "name": "stdout",
          "text": [
            "Fold Mean Squared Error: 13.8259\n",
            "Fold R² Score: 0.8188\n"
          ]
        },
        {
          "output_type": "stream",
          "name": "stderr",
          "text": [
            "\rCross-Validation Progress:  40%|████      | 2/5 [00:00<00:01,  2.00it/s]"
          ]
        },
        {
          "output_type": "stream",
          "name": "stdout",
          "text": [
            "Fold Mean Squared Error: 8.1990\n",
            "Fold R² Score: 0.8880\n"
          ]
        },
        {
          "output_type": "stream",
          "name": "stderr",
          "text": [
            "\rCross-Validation Progress:  60%|██████    | 3/5 [00:01<00:01,  1.75it/s]"
          ]
        },
        {
          "output_type": "stream",
          "name": "stdout",
          "text": [
            "Fold Mean Squared Error: 18.1865\n",
            "Fold R² Score: 0.7734\n"
          ]
        },
        {
          "output_type": "stream",
          "name": "stderr",
          "text": [
            "\rCross-Validation Progress:  80%|████████  | 4/5 [00:02<00:00,  1.53it/s]"
          ]
        },
        {
          "output_type": "stream",
          "name": "stdout",
          "text": [
            "Fold Mean Squared Error: 15.0813\n",
            "Fold R² Score: 0.7968\n"
          ]
        },
        {
          "output_type": "stream",
          "name": "stderr",
          "text": [
            "Cross-Validation Progress: 100%|██████████| 5/5 [00:03<00:00,  1.53it/s]"
          ]
        },
        {
          "output_type": "stream",
          "name": "stdout",
          "text": [
            "Fold Mean Squared Error: 12.9058\n",
            "Fold R² Score: 0.8024\n",
            "Average Mean Squared Error: 13.6397\n",
            "Average R² Score: 0.8159\n",
            "RandomForestRegressor (13.639694796395656, 0.8158690522908936)\n"
          ]
        },
        {
          "output_type": "stream",
          "name": "stderr",
          "text": [
            "\n"
          ]
        }
      ]
    },
    {
      "cell_type": "markdown",
      "source": [
        "SVM"
      ],
      "metadata": {
        "id": "UD9Rl2cAZAwR"
      }
    },
    {
      "cell_type": "code",
      "source": [
        "from sklearn.svm import SVR\n",
        "# Test Support Vector Machine (SVM) Regressor\n",
        "print(\"\\nTesting Support Vector Machine (SVM) Regressor\")\n",
        "svm_model = SVR()\n",
        "result= cross_validate_model(svm_model, X_scaled_df, Y)\n",
        "\n",
        "print(\"SVM\",  result)"
      ],
      "metadata": {
        "colab": {
          "base_uri": "https://localhost:8080/"
        },
        "id": "G4Y2IWumYvUL",
        "outputId": "0bc75b02-9133-4afc-f4e0-dd4c850bdd2f"
      },
      "execution_count": null,
      "outputs": [
        {
          "output_type": "stream",
          "name": "stdout",
          "text": [
            "\n",
            "Testing Support Vector Machine (SVM) Regressor\n"
          ]
        },
        {
          "output_type": "stream",
          "name": "stderr",
          "text": [
            "Cross-Validation Progress:  20%|██        | 1/5 [00:00<00:02,  1.87it/s]"
          ]
        },
        {
          "output_type": "stream",
          "name": "stdout",
          "text": [
            "Fold Mean Squared Error: 39.4563\n",
            "Fold R² Score: 0.4828\n"
          ]
        },
        {
          "output_type": "stream",
          "name": "stderr",
          "text": [
            "\rCross-Validation Progress:  40%|████      | 2/5 [00:01<00:01,  1.65it/s]"
          ]
        },
        {
          "output_type": "stream",
          "name": "stdout",
          "text": [
            "Fold Mean Squared Error: 35.7213\n",
            "Fold R² Score: 0.5122\n"
          ]
        },
        {
          "output_type": "stream",
          "name": "stderr",
          "text": [
            "\rCross-Validation Progress:  60%|██████    | 3/5 [00:01<00:01,  1.71it/s]"
          ]
        },
        {
          "output_type": "stream",
          "name": "stdout",
          "text": [
            "Fold Mean Squared Error: 35.9486\n",
            "Fold R² Score: 0.5520\n"
          ]
        },
        {
          "output_type": "stream",
          "name": "stderr",
          "text": [
            "\rCross-Validation Progress:  80%|████████  | 4/5 [00:02<00:00,  1.89it/s]"
          ]
        },
        {
          "output_type": "stream",
          "name": "stdout",
          "text": [
            "Fold Mean Squared Error: 33.7515\n",
            "Fold R² Score: 0.5453\n"
          ]
        },
        {
          "output_type": "stream",
          "name": "stderr",
          "text": [
            "Cross-Validation Progress: 100%|██████████| 5/5 [00:02<00:00,  2.06it/s]"
          ]
        },
        {
          "output_type": "stream",
          "name": "stdout",
          "text": [
            "Fold Mean Squared Error: 27.8406\n",
            "Fold R² Score: 0.5736\n",
            "Average Mean Squared Error: 34.5437\n",
            "Average R² Score: 0.5332\n",
            "SVM (34.54365016654972, 0.5331882730486335)\n"
          ]
        },
        {
          "output_type": "stream",
          "name": "stderr",
          "text": [
            "\n"
          ]
        }
      ]
    },
    {
      "cell_type": "markdown",
      "source": [
        "Ridge Regression"
      ],
      "metadata": {
        "id": "6fvNEs7sZmVq"
      }
    },
    {
      "cell_type": "code",
      "source": [
        "from sklearn.linear_model import Ridge\n",
        "\n",
        "# Initialize Ridge Regression model\n",
        "ridge_model = Ridge(alpha=1.0)\n",
        "\n",
        "# Perform cross-validation\n",
        "print(\"Testing Ridge Regression\")\n",
        "result= cross_validate_model(ridge_model, X_scaled_df, Y)\n",
        "print(\"Ridge Regression\",  result)"
      ],
      "metadata": {
        "colab": {
          "base_uri": "https://localhost:8080/"
        },
        "id": "w-wWhm9lZGfc",
        "outputId": "f30fb9e6-eae2-4875-e4d1-9f9ccc676a0a"
      },
      "execution_count": null,
      "outputs": [
        {
          "output_type": "stream",
          "name": "stdout",
          "text": [
            "Testing Ridge Regression\n"
          ]
        },
        {
          "output_type": "stream",
          "name": "stderr",
          "text": [
            "Cross-Validation Progress: 100%|██████████| 5/5 [00:00<00:00, 87.59it/s]"
          ]
        },
        {
          "output_type": "stream",
          "name": "stdout",
          "text": [
            "Fold Mean Squared Error: 52.8082\n",
            "Fold R² Score: 0.3078\n",
            "Fold Mean Squared Error: 50.6998\n",
            "Fold R² Score: 0.3076\n",
            "Fold Mean Squared Error: 49.7367\n",
            "Fold R² Score: 0.3802\n",
            "Fold Mean Squared Error: 52.7547\n",
            "Fold R² Score: 0.2892\n",
            "Fold Mean Squared Error: 43.6919\n",
            "Fold R² Score: 0.3309\n",
            "Average Mean Squared Error: 49.9383\n",
            "Average R² Score: 0.3232\n",
            "Ridge Regression (49.93825768890666, 0.3231550701386642)\n"
          ]
        },
        {
          "output_type": "stream",
          "name": "stderr",
          "text": [
            "\n"
          ]
        }
      ]
    },
    {
      "cell_type": "markdown",
      "source": [
        "Lasso"
      ],
      "metadata": {
        "id": "JbLwKhdMZ8QJ"
      }
    },
    {
      "cell_type": "code",
      "source": [
        "from sklearn.linear_model import Lasso\n",
        "\n",
        "# Initialize Lasso Regression model\n",
        "lasso_model = Lasso(alpha=0.1)\n",
        "\n",
        "# Perform cross-validation\n",
        "print(\"Testing Lasso Regression\")\n",
        "result= cross_validate_model(lasso_model, X_scaled_df, Y)\n",
        "print(\"Lasso Regression\",  result)"
      ],
      "metadata": {
        "colab": {
          "base_uri": "https://localhost:8080/"
        },
        "id": "wOgRvSECZx35",
        "outputId": "5aa7eec1-3ad8-4f33-ee42-76752820ea2d"
      },
      "execution_count": null,
      "outputs": [
        {
          "output_type": "stream",
          "name": "stdout",
          "text": [
            "Testing Lasso Regression\n"
          ]
        },
        {
          "output_type": "stream",
          "name": "stderr",
          "text": [
            "\rCross-Validation Progress:   0%|          | 0/5 [00:00<?, ?it/s]"
          ]
        },
        {
          "output_type": "stream",
          "name": "stdout",
          "text": [
            "Fold Mean Squared Error: 53.3078\n",
            "Fold R² Score: 0.3013\n",
            "Fold Mean Squared Error: 51.1643\n",
            "Fold R² Score: 0.3013\n",
            "Fold Mean Squared Error: 49.7447\n",
            "Fold R² Score: 0.3801\n",
            "Fold Mean Squared Error: 52.4335\n",
            "Fold R² Score: 0.2935\n"
          ]
        },
        {
          "output_type": "stream",
          "name": "stderr",
          "text": [
            "\rCross-Validation Progress: 100%|██████████| 5/5 [00:00<00:00, 49.95it/s]"
          ]
        },
        {
          "output_type": "stream",
          "name": "stdout",
          "text": [
            "Fold Mean Squared Error: 43.6122\n",
            "Fold R² Score: 0.3321\n",
            "Average Mean Squared Error: 50.0525\n",
            "Average R² Score: 0.3217\n",
            "Lasso Regression (50.052505989393424, 0.32166631634070997)\n"
          ]
        },
        {
          "output_type": "stream",
          "name": "stderr",
          "text": [
            "\n"
          ]
        }
      ]
    },
    {
      "cell_type": "markdown",
      "source": [
        "Elastic Net"
      ],
      "metadata": {
        "id": "aJ5gdgUYaJqv"
      }
    },
    {
      "cell_type": "code",
      "source": [
        "from sklearn.linear_model import ElasticNet\n",
        "\n",
        "# Initialize Elastic Net model\n",
        "elastic_net_model = ElasticNet(alpha=0.1, l1_ratio=0.5)\n",
        "\n",
        "# Perform cross-validation\n",
        "print(\"Testing Elastic Net\")\n",
        "cross_validate_model(elastic_net_model, X_scaled_df, Y)\n",
        "print(\"Elastic Net\",  result)"
      ],
      "metadata": {
        "colab": {
          "base_uri": "https://localhost:8080/"
        },
        "id": "6usA2OCaaGNe",
        "outputId": "24592e78-1122-49e6-d334-a88729378d5b"
      },
      "execution_count": null,
      "outputs": [
        {
          "output_type": "stream",
          "name": "stdout",
          "text": [
            "Testing Elastic Net\n"
          ]
        },
        {
          "output_type": "stream",
          "name": "stderr",
          "text": [
            "\rCross-Validation Progress:   0%|          | 0/5 [00:00<?, ?it/s]"
          ]
        },
        {
          "output_type": "stream",
          "name": "stdout",
          "text": [
            "Fold Mean Squared Error: 53.5827\n",
            "Fold R² Score: 0.2977\n",
            "Fold Mean Squared Error: 51.1638\n",
            "Fold R² Score: 0.3013\n",
            "Fold Mean Squared Error: 50.1894\n",
            "Fold R² Score: 0.3746\n"
          ]
        },
        {
          "output_type": "stream",
          "name": "stderr",
          "text": [
            "Cross-Validation Progress: 100%|██████████| 5/5 [00:00<00:00, 42.39it/s]"
          ]
        },
        {
          "output_type": "stream",
          "name": "stdout",
          "text": [
            "Fold Mean Squared Error: 52.2537\n",
            "Fold R² Score: 0.2960\n",
            "Fold Mean Squared Error: 43.4239\n",
            "Fold R² Score: 0.3350\n",
            "Average Mean Squared Error: 50.1227\n",
            "Average R² Score: 0.3209\n",
            "Elastic Net (50.052505989393424, 0.32166631634070997)\n"
          ]
        },
        {
          "output_type": "stream",
          "name": "stderr",
          "text": [
            "\n"
          ]
        }
      ]
    },
    {
      "cell_type": "markdown",
      "source": [
        "Gradient Boosting Regressor"
      ],
      "metadata": {
        "id": "jsN6YzO3aVwf"
      }
    },
    {
      "cell_type": "code",
      "source": [
        "from sklearn.ensemble import GradientBoostingRegressor\n",
        "\n",
        "# Initialize Gradient Boosting Regressor model\n",
        "gradient_boosting_model = GradientBoostingRegressor()\n",
        "\n",
        "# Perform cross-validation\n",
        "print(\"Testing Gradient Boosting Regressor\")\n",
        "result= cross_validate_model(gradient_boosting_model, X_scaled_df, Y)\n",
        "print(\"Gradient Boosting Regressor\",  result)"
      ],
      "metadata": {
        "colab": {
          "base_uri": "https://localhost:8080/"
        },
        "id": "RT43Z03maQ-z",
        "outputId": "e21b4a65-2b78-4c3e-e74c-f6a7f7d4b8d0"
      },
      "execution_count": null,
      "outputs": [
        {
          "output_type": "stream",
          "name": "stdout",
          "text": [
            "Testing Gradient Boosting Regressor\n"
          ]
        },
        {
          "output_type": "stream",
          "name": "stderr",
          "text": [
            "Cross-Validation Progress:  20%|██        | 1/5 [00:00<00:01,  3.40it/s]"
          ]
        },
        {
          "output_type": "stream",
          "name": "stdout",
          "text": [
            "Fold Mean Squared Error: 30.6087\n",
            "Fold R² Score: 0.5988\n"
          ]
        },
        {
          "output_type": "stream",
          "name": "stderr",
          "text": [
            "\rCross-Validation Progress:  40%|████      | 2/5 [00:00<00:00,  3.85it/s]"
          ]
        },
        {
          "output_type": "stream",
          "name": "stdout",
          "text": [
            "Fold Mean Squared Error: 28.6367\n",
            "Fold R² Score: 0.6089\n"
          ]
        },
        {
          "output_type": "stream",
          "name": "stderr",
          "text": [
            "\rCross-Validation Progress:  60%|██████    | 3/5 [00:00<00:00,  3.47it/s]"
          ]
        },
        {
          "output_type": "stream",
          "name": "stdout",
          "text": [
            "Fold Mean Squared Error: 27.4085\n",
            "Fold R² Score: 0.6585\n"
          ]
        },
        {
          "output_type": "stream",
          "name": "stderr",
          "text": [
            "\rCross-Validation Progress:  80%|████████  | 4/5 [00:01<00:00,  3.02it/s]"
          ]
        },
        {
          "output_type": "stream",
          "name": "stdout",
          "text": [
            "Fold Mean Squared Error: 30.2496\n",
            "Fold R² Score: 0.5924\n"
          ]
        },
        {
          "output_type": "stream",
          "name": "stderr",
          "text": [
            "Cross-Validation Progress: 100%|██████████| 5/5 [00:01<00:00,  3.27it/s]"
          ]
        },
        {
          "output_type": "stream",
          "name": "stdout",
          "text": [
            "Fold Mean Squared Error: 25.7451\n",
            "Fold R² Score: 0.6057\n",
            "Average Mean Squared Error: 28.5297\n",
            "Average R² Score: 0.6129\n",
            "Gradient Boosting Regressor (28.529703330328278, 0.6128705666406167)\n"
          ]
        },
        {
          "output_type": "stream",
          "name": "stderr",
          "text": [
            "\n"
          ]
        }
      ]
    },
    {
      "cell_type": "markdown",
      "source": [
        "Polynomial Regression"
      ],
      "metadata": {
        "id": "cy1EMguHamYC"
      }
    },
    {
      "cell_type": "code",
      "source": [
        "from sklearn.preprocessing import PolynomialFeatures\n",
        "from sklearn.pipeline import make_pipeline\n",
        "from sklearn.linear_model import LinearRegression\n",
        "\n",
        "# Create a Polynomial Regression pipeline\n",
        "poly_features = PolynomialFeatures(degree=2)\n",
        "poly_reg_model = make_pipeline(poly_features, LinearRegression())\n",
        "\n",
        "# Perform cross-validation\n",
        "print(\"Testing Polynomial Regression\")\n",
        "result= cross_validate_model(poly_reg_model, X_scaled_df, Y)\n",
        "print(\"Polynomial Regression\",  result)"
      ],
      "metadata": {
        "colab": {
          "base_uri": "https://localhost:8080/"
        },
        "id": "Ik558E_fadOg",
        "outputId": "4bce920d-13ef-4610-fba1-5c65cb60ba4d"
      },
      "execution_count": null,
      "outputs": [
        {
          "output_type": "stream",
          "name": "stdout",
          "text": [
            "Testing Polynomial Regression\n"
          ]
        },
        {
          "output_type": "stream",
          "name": "stderr",
          "text": [
            "\rCross-Validation Progress:   0%|          | 0/5 [00:00<?, ?it/s]"
          ]
        },
        {
          "output_type": "stream",
          "name": "stdout",
          "text": [
            "Fold Mean Squared Error: 35.0727\n",
            "Fold R² Score: 0.5403\n"
          ]
        },
        {
          "output_type": "stream",
          "name": "stderr",
          "text": [
            "Cross-Validation Progress:  60%|██████    | 3/5 [00:00<00:00,  7.47it/s]"
          ]
        },
        {
          "output_type": "stream",
          "name": "stdout",
          "text": [
            "Fold Mean Squared Error: 33.7262\n",
            "Fold R² Score: 0.5394\n",
            "Fold Mean Squared Error: 131668240494012416000.0000\n",
            "Fold R² Score: -1640720754745525760.0000\n"
          ]
        },
        {
          "output_type": "stream",
          "name": "stderr",
          "text": [
            "Cross-Validation Progress: 100%|██████████| 5/5 [00:00<00:00,  7.59it/s]"
          ]
        },
        {
          "output_type": "stream",
          "name": "stdout",
          "text": [
            "Fold Mean Squared Error: 8745919820517106253824.0000\n",
            "Fold R² Score: -117836199417864929280.0000\n",
            "Fold Mean Squared Error: 32.7282\n",
            "Fold R² Score: 0.4988\n",
            "Average Mean Squared Error: 1775517612202223730688.0000\n",
            "Average R² Score: -23895384034522091520.0000\n",
            "Polynomial Regression (1.7755176122022237e+21, -2.389538403452209e+19)\n"
          ]
        },
        {
          "output_type": "stream",
          "name": "stderr",
          "text": [
            "\n"
          ]
        }
      ]
    },
    {
      "cell_type": "markdown",
      "source": [
        "finally we are trying with  xgboost\n"
      ],
      "metadata": {
        "id": "ffte9bkwa3sk"
      }
    },
    {
      "cell_type": "code",
      "source": [
        "!pip install xgboost\n"
      ],
      "metadata": {
        "colab": {
          "base_uri": "https://localhost:8080/"
        },
        "id": "btGKnjvaar2C",
        "outputId": "b1f1d293-1d5e-4a0e-d010-b84d7af736ff"
      },
      "execution_count": null,
      "outputs": [
        {
          "output_type": "stream",
          "name": "stdout",
          "text": [
            "Requirement already satisfied: xgboost in /usr/local/lib/python3.10/dist-packages (2.0.3)\n",
            "Requirement already satisfied: numpy in /usr/local/lib/python3.10/dist-packages (from xgboost) (1.25.2)\n",
            "Requirement already satisfied: scipy in /usr/local/lib/python3.10/dist-packages (from xgboost) (1.11.4)\n"
          ]
        }
      ]
    },
    {
      "cell_type": "code",
      "source": [
        "import xgboost as xgb\n",
        "\n",
        "xgb_model = xgb.XGBRegressor(objective='reg:squarederror', n_estimators=100, max_depth=6, learning_rate=0.1)\n",
        "\n",
        "# Perform cross-validation\n",
        "print(\"Testing XGBoost Regressor\")\n",
        "result= cross_validate_model(xgb_model, X_scaled_df, Y)\n",
        "print(\"XGBoost Regressor\",  result)"
      ],
      "metadata": {
        "colab": {
          "base_uri": "https://localhost:8080/"
        },
        "id": "OJvv8wYOa9VB",
        "outputId": "149f1fc1-44b5-4ae3-ad32-9510262e7fb1"
      },
      "execution_count": null,
      "outputs": [
        {
          "output_type": "stream",
          "name": "stdout",
          "text": [
            "Testing XGBoost Regressor\n"
          ]
        },
        {
          "output_type": "stream",
          "name": "stderr",
          "text": [
            "Cross-Validation Progress:  20%|██        | 1/5 [00:00<00:00,  8.85it/s]"
          ]
        },
        {
          "output_type": "stream",
          "name": "stdout",
          "text": [
            "Fold Mean Squared Error: 15.7515\n",
            "Fold R² Score: 0.7935\n",
            "Fold Mean Squared Error: 13.0189\n",
            "Fold R² Score: 0.8222\n"
          ]
        },
        {
          "output_type": "stream",
          "name": "stderr",
          "text": [
            "\rCross-Validation Progress:  60%|██████    | 3/5 [00:00<00:00, 10.30it/s]"
          ]
        },
        {
          "output_type": "stream",
          "name": "stdout",
          "text": [
            "Fold Mean Squared Error: 19.0026\n",
            "Fold R² Score: 0.7632\n"
          ]
        },
        {
          "output_type": "stream",
          "name": "stderr",
          "text": [
            "Cross-Validation Progress: 100%|██████████| 5/5 [00:00<00:00, 10.72it/s]"
          ]
        },
        {
          "output_type": "stream",
          "name": "stdout",
          "text": [
            "Fold Mean Squared Error: 17.9170\n",
            "Fold R² Score: 0.7586\n",
            "Fold Mean Squared Error: 15.0751\n",
            "Fold R² Score: 0.7691\n",
            "Average Mean Squared Error: 16.1530\n",
            "Average R² Score: 0.7813\n",
            "XGBoost Regressor (16.153035197094855, 0.7813370052241736)\n"
          ]
        },
        {
          "output_type": "stream",
          "name": "stderr",
          "text": [
            "\n"
          ]
        }
      ]
    },
    {
      "cell_type": "markdown",
      "source": [
        "Test Train Split Xgboost"
      ],
      "metadata": {
        "id": "lakV379MbbI-"
      }
    },
    {
      "cell_type": "code",
      "source": [
        "import xgboost as xgb\n",
        "from sklearn.model_selection import train_test_split\n",
        "from sklearn.metrics import mean_squared_error, r2_score\n",
        "import numpy as np\n",
        "\n",
        "# Assuming X_scaled_df and y are your feature matrix and target variable\n",
        "\n",
        "# Step 1: Split the data into training and testing sets\n",
        "X_train, X_test, y_train, y_test = train_test_split(X_scaled_df, Y, test_size=0.2, random_state=42)\n",
        "\n",
        "# Step 2: Initialize XGBoost Regressor model\n",
        "xgb_model = xgb.XGBRegressor(objective='reg:squarederror',\n",
        "                             n_estimators=100,\n",
        "                             max_depth=6,\n",
        "                             learning_rate=0.1)\n",
        "\n",
        "# Step 3: Train the model\n",
        "xgb_model.fit(X_train, y_train)\n",
        "\n",
        "# Step 4: Make predictions on the test set\n",
        "predictions = xgb_model.predict(X_test)\n",
        "\n",
        "# Step 5: Evaluate the model\n",
        "mse_score = mean_squared_error(y_test, predictions)\n",
        "r2_score_value = r2_score(y_test, predictions)\n",
        "\n",
        "# Print the evaluation metrics\n",
        "print(f\"Mean Squared Error: {mse_score:.4f}\")\n",
        "print(f\"R² Score: {r2_score_value:.4f}\")\n",
        "\n",
        "# Optional: Feature importance\n",
        "importances = xgb_model.feature_importances_\n",
        "feature_names = X_scaled_df.columns\n",
        "sorted_idx = np.argsort(importances)[::-1]\n",
        "\n",
        "print(\"Feature Importances:\")\n",
        "for idx in sorted_idx:\n",
        "    print(f\"{feature_names[idx]}: {importances[idx]:.4f}\")\n"
      ],
      "metadata": {
        "colab": {
          "base_uri": "https://localhost:8080/"
        },
        "id": "2V64k6SJbKSJ",
        "outputId": "5d57a7c1-10bd-459a-8948-445600c3513d"
      },
      "execution_count": null,
      "outputs": [
        {
          "output_type": "stream",
          "name": "stdout",
          "text": [
            "Mean Squared Error: 15.7515\n",
            "R² Score: 0.7935\n",
            "Feature Importances:\n",
            "Tumor Type_Glioblastoma: 0.2903\n",
            "Time to Recurrence (months): 0.1355\n",
            "Treatment Outcome_Stable disease: 0.0999\n",
            "Tumor Location_Temporal lobe: 0.0798\n",
            "Tumor Location_Occipital lobe: 0.0760\n",
            "Tumor Grade_encoded: 0.0543\n",
            "Treatment Outcome_Progressive disease: 0.0403\n",
            "Age: 0.0343\n",
            "Gender_encoded: 0.0324\n",
            "Treatment_Surgery + Radiation therapy: 0.0308\n",
            "Treatment_Surgery + Chemotherapy: 0.0305\n",
            "Tumor Location_Parietal lobe: 0.0280\n",
            "Treatment_Surgery + Radiation: 0.0234\n",
            "Treatment Outcome_Partial response: 0.0224\n",
            "Treatment_Radiation: 0.0110\n",
            "Treatment_Surgery: 0.0105\n",
            "Treatment_Chemotherapy + Radiation: 0.0007\n",
            "Tumor Type_Meningioma: 0.0000\n"
          ]
        }
      ]
    },
    {
      "cell_type": "code",
      "source": [
        "from sklearn.tree import DecisionTreeRegressor\n",
        "# Test Decision Tree Regressor\n",
        "print(\"\\nTesting Decision Tree Regressor\")\n",
        "decision_tree_model = DecisionTreeRegressor()\n",
        "\n",
        "decision_tree_model.fit(X_train, y_train)\n",
        "y_pred= decision_tree_model.predict(X_test)\n",
        "\n",
        "\n",
        "mse_score =mean_squared_error(y_test,y_pred)\n",
        "r2_score_value = r2_score(y_test, y_pred)\n",
        "\n",
        "print(f\"Mean Squared Error: {mse_score:.4f}\")\n",
        "print(f\"R² Score: {r2_score_value:.4f}\")\n"
      ],
      "metadata": {
        "id": "llU1bKznbofV",
        "outputId": "f3f3ab8d-001f-49d5-8012-a99913ede5ef",
        "colab": {
          "base_uri": "https://localhost:8080/"
        }
      },
      "execution_count": null,
      "outputs": [
        {
          "output_type": "stream",
          "name": "stdout",
          "text": [
            "\n",
            "Testing Decision Tree Regressor\n",
            "Mean Squared Error: 16.7912\n",
            "R² Score: 0.7799\n"
          ]
        }
      ]
    },
    {
      "cell_type": "code",
      "source": [
        "from sklearn.ensemble import RandomForestRegressor\n",
        "# Test Random Forest Regressor\n",
        "print(\"\\nTesting Random Forest Regressor\")\n",
        "rf_model = RandomForestRegressor(n_estimators=100, max_depth=None, random_state=42)\n",
        "\n",
        "# Step 3: Train the model\n",
        "rf_model.fit(X_train, y_train)\n",
        "\n",
        "# Step 4: Make predictions on the test set\n",
        "predictions = rf_model.predict(X_test)\n",
        "\n",
        "# Step 5: Evaluate the model\n",
        "mse_score = mean_squared_error(y_test, predictions)\n",
        "r2_score_value = r2_score(y_test, predictions)\n",
        "\n",
        "# Print the evaluation metrics\n",
        "print(f\"Mean Squared Error: {mse_score:.4f}\")\n",
        "print(f\"R² Score: {r2_score_value:.4f}\")\n",
        "\n",
        "# Optional: Feature importance\n",
        "importances = rf_model.feature_importances_\n",
        "feature_names = X_scaled_df.columns\n",
        "sorted_idx = np.argsort(importances)[::-1]\n",
        "\n",
        "print(\"Feature Importances:\")\n",
        "for idx in sorted_idx:\n",
        "    print(f\"{feature_names[idx]}: {importances[idx]:.4f}\")"
      ],
      "metadata": {
        "id": "HTbLfCmJELyp",
        "outputId": "5e46c0f2-94c9-456e-897e-ed670b0225ed",
        "colab": {
          "base_uri": "https://localhost:8080/"
        }
      },
      "execution_count": null,
      "outputs": [
        {
          "output_type": "stream",
          "name": "stdout",
          "text": [
            "\n",
            "Testing Random Forest Regressor\n",
            "Mean Squared Error: 14.3399\n",
            "R² Score: 0.8120\n",
            "Feature Importances:\n",
            "Time to Recurrence (months): 0.3637\n",
            "Age: 0.2123\n",
            "Tumor Location_Temporal lobe: 0.0679\n",
            "Tumor Grade_encoded: 0.0655\n",
            "Tumor Location_Occipital lobe: 0.0541\n",
            "Gender_encoded: 0.0395\n",
            "Treatment Outcome_Stable disease: 0.0363\n",
            "Tumor Type_Glioblastoma: 0.0283\n",
            "Tumor Location_Parietal lobe: 0.0230\n",
            "Treatment_Surgery + Chemotherapy: 0.0215\n",
            "Treatment Outcome_Progressive disease: 0.0206\n",
            "Treatment Outcome_Partial response: 0.0192\n",
            "Treatment_Surgery + Radiation: 0.0182\n",
            "Tumor Type_Meningioma: 0.0148\n",
            "Treatment_Surgery: 0.0059\n",
            "Treatment_Surgery + Radiation therapy: 0.0050\n",
            "Treatment_Radiation: 0.0044\n",
            "Treatment_Chemotherapy + Radiation: 0.0000\n"
          ]
        }
      ]
    },
    {
      "cell_type": "code",
      "source": [
        "# Define a threshold for feature importance\n",
        "importance_threshold = 0.02\n",
        "\n",
        "# Identify unimportant features\n",
        "unimportant_features = [feature_names[idx] for idx, importance in enumerate(importances) if importance < importance_threshold]\n",
        "\n",
        "# Print unimportant features\n",
        "print(\"Unimportant Features:\")\n",
        "for feature in unimportant_features:\n",
        "    print(feature)\n",
        "\n",
        "# Drop unimportant features from the original dataframe\n",
        "X_scaled_df_reduced = X_scaled_df.drop(columns=unimportant_features)\n",
        "\n",
        "# Print the new dataframe to verify changes\n",
        "print(\"\\nNew DataFrame with Reduced Features:\")\n",
        "print(X_scaled_df_reduced.head())\n",
        "\n",
        "# Verify the new shape of the dataset\n",
        "print(f\"\\nOriginal number of features: {X_scaled_df.shape[1]}\")\n",
        "print(f\"Reduced number of features: {X_scaled_df_reduced.shape[1]}\")\n"
      ],
      "metadata": {
        "id": "3Nj17iLAFExx",
        "outputId": "e7b3b0de-ea5f-4d4a-8bda-9328b2fec4f8",
        "colab": {
          "base_uri": "https://localhost:8080/"
        }
      },
      "execution_count": null,
      "outputs": [
        {
          "output_type": "stream",
          "name": "stdout",
          "text": [
            "Unimportant Features:\n",
            "Tumor Type_Meningioma\n",
            "Treatment_Chemotherapy + Radiation\n",
            "Treatment_Radiation\n",
            "Treatment_Surgery\n",
            "Treatment_Surgery + Radiation\n",
            "Treatment_Surgery + Radiation therapy\n",
            "Treatment Outcome_Partial response\n",
            "\n",
            "New DataFrame with Reduced Features:\n",
            "        Age  Time to Recurrence (months)  Gender_encoded  Tumor Grade_encoded  \\\n",
            "0 -1.835289                -2.300221e+00        1.007025             1.242512   \n",
            "1 -0.189733                -1.339799e-15       -0.993024            -1.136260   \n",
            "2  0.633046                -7.917419e-01        1.007025             0.449588   \n",
            "3 -1.012511                -1.339799e-15       -0.993024             1.242512   \n",
            "4  1.455824                 2.979457e+00        1.007025            -0.343336   \n",
            "\n",
            "   Tumor Type_Glioblastoma  Tumor Location_Occipital lobe  \\\n",
            "0                 1.462777                      -0.565802   \n",
            "1                -0.683631                      -0.565802   \n",
            "2                -0.683631                       1.767402   \n",
            "3                 1.462777                      -0.565802   \n",
            "4                -0.683631                      -0.565802   \n",
            "\n",
            "   Tumor Location_Parietal lobe  Tumor Location_Temporal lobe  \\\n",
            "0                      -0.57966                     -0.575041   \n",
            "1                       1.72515                     -0.575041   \n",
            "2                      -0.57966                     -0.575041   \n",
            "3                      -0.57966                      1.739007   \n",
            "4                      -0.57966                     -0.575041   \n",
            "\n",
            "   Treatment_Surgery + Chemotherapy  Treatment Outcome_Progressive disease  \\\n",
            "0                         -0.798750                              -0.640654   \n",
            "1                         -0.798750                              -0.640654   \n",
            "2                          1.251956                               1.560906   \n",
            "3                         -0.798750                              -0.640654   \n",
            "4                         -0.798750                              -0.640654   \n",
            "\n",
            "   Treatment Outcome_Stable disease  \n",
            "0                         -0.580429  \n",
            "1                         -0.580429  \n",
            "2                         -0.580429  \n",
            "3                         -0.580429  \n",
            "4                         -0.580429  \n",
            "\n",
            "Original number of features: 18\n",
            "Reduced number of features: 11\n"
          ]
        }
      ]
    },
    {
      "cell_type": "code",
      "source": [
        "import pandas as pd\n",
        "import numpy as np\n",
        "from sklearn.model_selection import train_test_split\n",
        "from sklearn.ensemble import RandomForestRegressor\n",
        "from sklearn.tree import DecisionTreeRegressor\n",
        "from sklearn.metrics import mean_squared_error, r2_score\n",
        "from xgboost import XGBRegressor\n",
        "\n",
        "# Assuming X_scaled_df_reduced and y are your feature matrix and target variable\n",
        "\n",
        "# Function to perform train-test split and model evaluation\n",
        "def evaluate_model(model, X, y):\n",
        "    # Split the data into training and testing sets\n",
        "    X_train, X_test, y_train, y_test = train_test_split(X, y, test_size=0.2, random_state=42)\n",
        "\n",
        "    # Train the model\n",
        "    model.fit(X_train, y_train)\n",
        "\n",
        "    # Make predictions on the test set\n",
        "    predictions = model.predict(X_test)\n",
        "\n",
        "    # Evaluate the model\n",
        "    mse_score = mean_squared_error(y_test, predictions)\n",
        "    r2_score_value = r2_score(y_test, predictions)\n",
        "\n",
        "    return mse_score, r2_score_value\n",
        "\n",
        "# Models to evaluate\n",
        "models = {\n",
        "    \"Random Forest\": RandomForestRegressor(n_estimators=100, max_depth=None, random_state=42),\n",
        "    \"Decision Tree\": DecisionTreeRegressor(max_depth=None, random_state=42),\n",
        "    \"XGBoost\": XGBRegressor(n_estimators=100, max_depth=6, learning_rate=0.1, random_state=42)\n",
        "}\n",
        "\n",
        "# Perform evaluation for each model\n",
        "for model_name, model in models.items():\n",
        "    mse_score, r2_score_value = evaluate_model(model, X_scaled_df_reduced, Y)\n",
        "    print(f\"{model_name} - Mean Squared Error: {mse_score:.4f}, R² Score: {r2_score_value:.4f}\")\n"
      ],
      "metadata": {
        "id": "wDXzSLRnG94Z",
        "outputId": "9ca21228-cfaa-4024-d742-2d6608e65da3",
        "colab": {
          "base_uri": "https://localhost:8080/"
        }
      },
      "execution_count": null,
      "outputs": [
        {
          "output_type": "stream",
          "name": "stdout",
          "text": [
            "Random Forest - Mean Squared Error: 14.1848, R² Score: 0.8141\n",
            "Decision Tree - Mean Squared Error: 14.8392, R² Score: 0.8055\n",
            "XGBoost - Mean Squared Error: 17.2318, R² Score: 0.7741\n"
          ]
        }
      ]
    },
    {
      "cell_type": "code",
      "source": [
        "import pandas as pd\n",
        "import numpy as np\n",
        "from sklearn.model_selection import train_test_split, RandomizedSearchCV\n",
        "from sklearn.metrics import mean_squared_error, r2_score\n",
        "from xgboost import XGBRegressor\n",
        "\n",
        "# Assuming X_scaled_df_reduced and y are your feature matrix and target variable\n",
        "\n",
        "# Function to perform train-test split and model evaluation\n",
        "def evaluate_model(model, X, y):\n",
        "    # Split the data into training and testing sets\n",
        "    X_train, X_test, y_train, y_test = train_test_split(X, y, test_size=0.2, random_state=42)\n",
        "\n",
        "    # Train the model\n",
        "    model.fit(X_train, y_train)\n",
        "\n",
        "    # Make predictions on the test set\n",
        "    predictions = model.predict(X_test)\n",
        "\n",
        "    # Evaluate the model\n",
        "    mse_score = mean_squared_error(y_test, predictions)\n",
        "    r2_score_value = r2_score(y_test, predictions)\n",
        "\n",
        "    return mse_score, r2_score_value\n",
        "\n",
        "# Hyperparameter grid for XGBoost\n",
        "param_grid_xgb = {\n",
        "    'n_estimators': [100, 200, 300, 400, 500],\n",
        "    'max_depth': [3, 5, 7, 10],\n",
        "    'learning_rate': [0.01, 0.05, 0.1, 0.2],\n",
        "    'subsample': [0.6, 0.8, 1.0],\n",
        "    'colsample_bytree': [0.6, 0.8, 1.0],\n",
        "    'gamma': [0, 0.1, 0.2, 0.3],\n",
        "    'min_child_weight': [1, 5, 10]\n",
        "}\n",
        "\n",
        "# XGBoost model\n",
        "xgb_model = XGBRegressor(random_state=42)\n",
        "\n",
        "# Randomized search\n",
        "random_search = RandomizedSearchCV(\n",
        "    xgb_model, param_distributions=param_grid_xgb,\n",
        "    n_iter=100, cv=5, scoring='r2', n_jobs=-1, random_state=42\n",
        ")\n",
        "\n",
        "# Split the data into training and testing sets\n",
        "X_train, X_test, y_train, y_test = train_test_split(X_scaled_df_reduced, Y, test_size=0.2, random_state=42)\n",
        "\n",
        "# Perform randomized search\n",
        "random_search.fit(X_train, y_train)\n",
        "\n",
        "# Get the best model\n",
        "best_xgb_model = random_search.best_estimator_\n",
        "\n",
        "# Evaluate the best model\n",
        "mse_score, r2_score_value = evaluate_model(best_xgb_model, X_scaled_df_reduced, Y)\n",
        "\n",
        "print(f\"XGBoost - Best Model - Mean Squared Error: {mse_score:.4f}, R² Score: {r2_score_value:.4f}\")\n",
        "print(\"Best Hyperparameters:\", random_search.best_params_)\n"
      ],
      "metadata": {
        "id": "CNwnH6MhIJ-I",
        "outputId": "d6f28377-0d5a-42d5-9aa5-3382f79bde09",
        "colab": {
          "base_uri": "https://localhost:8080/"
        }
      },
      "execution_count": null,
      "outputs": [
        {
          "output_type": "stream",
          "name": "stdout",
          "text": [
            "XGBoost - Best Model - Mean Squared Error: 12.9703, R² Score: 0.8300\n",
            "Best Hyperparameters: {'subsample': 0.6, 'n_estimators': 300, 'min_child_weight': 1, 'max_depth': 10, 'learning_rate': 0.05, 'gamma': 0.3, 'colsample_bytree': 1.0}\n"
          ]
        }
      ]
    },
    {
      "cell_type": "code",
      "source": [
        "import numpy as np\n",
        "import pandas as pd\n",
        "from sklearn.model_selection import KFold, GridSearchCV\n",
        "from sklearn.metrics import mean_squared_error, r2_score\n",
        "from tqdm import tqdm\n",
        "import xgboost as xgb\n",
        "\n",
        "def cross_validate_model(model, X, y, n_splits=5, random_state=42):\n",
        "    \"\"\"\n",
        "    Perform K-Fold cross-validation on the given model.\n",
        "\n",
        "    Parameters:\n",
        "    - model: The regression model to be evaluated.\n",
        "    - X: Feature DataFrame.\n",
        "    - y: Target Series.\n",
        "    - n_splits: Number of folds for cross-validation.\n",
        "    - random_state: Random seed for reproducibility.\n",
        "\n",
        "    Returns:\n",
        "    - A tuple containing average Mean Squared Error and R² score.\n",
        "    \"\"\"\n",
        "    kf = KFold(n_splits=n_splits, shuffle=True, random_state=random_state)\n",
        "    mse_scores = []\n",
        "    r2_scores = []\n",
        "\n",
        "    for train_index, test_index in tqdm(kf.split(X), total=kf.get_n_splits(), desc=\"Cross-Validation Progress\"):\n",
        "        X_train, X_test = X.iloc[train_index], X.iloc[test_index]\n",
        "        y_train, y_test = y.iloc[train_index], y.iloc[test_index]\n",
        "\n",
        "        model.fit(X_train, y_train)\n",
        "        predictions = model.predict(X_test)\n",
        "\n",
        "        mse_score = mean_squared_error(y_test, predictions)\n",
        "        r2_score_value = r2_score(y_test, predictions)\n",
        "\n",
        "        mse_scores.append(mse_score)\n",
        "        r2_scores.append(r2_score_value)\n",
        "\n",
        "        print(f\"Fold Mean Squared Error: {mse_score:.4f}\")\n",
        "        print(f\"Fold R² Score: {r2_score_value:.4f}\")\n",
        "\n",
        "    avg_mse = np.mean(mse_scores)\n",
        "    avg_r2 = np.mean(r2_scores)\n",
        "\n",
        "    print(f\"Average Mean Squared Error: {avg_mse:.4f}\")\n",
        "    print(f\"Average R² Score: {avg_r2:.4f}\")\n",
        "\n",
        "    return avg_mse, avg_r2\n",
        "\n",
        "# Define the parameter grid for XGBoost\n",
        "param_grid = {\n",
        "    'n_estimators': [100, 200, 300],\n",
        "    'learning_rate': [0.01, 0.1, 0.2],\n",
        "    'max_depth': [3, 5, 7],\n",
        "    'min_child_weight': [1, 3, 5],\n",
        "    'subsample': [0.8, 0.9, 1.0],\n",
        "    'colsample_bytree': [0.8, 0.9, 1.0]\n",
        "}\n",
        "\n",
        "# Define the XGBoost model\n",
        "xgb_model = xgb.XGBRegressor(objective='reg:squarederror', random_state=42)\n",
        "\n",
        "# Perform Grid Search with Cross-Validation\n",
        "grid_search = GridSearchCV(estimator=xgb_model, param_grid=param_grid, scoring='neg_mean_squared_error', cv=5, verbose=1, n_jobs=-1)\n",
        "\n",
        "# Fit the Grid Search model\n",
        "grid_search.fit(X, Y)\n",
        "\n",
        "# Get the best model from Grid Search\n",
        "best_model = grid_search.best_estimator_\n",
        "\n",
        "# Evaluate the best model using the cross_validate_model function\n",
        "avg_mse, avg_r2 = cross_validate_model(best_model, X, Y)\n",
        "\n",
        "print(f\"Best Model Parameters: {grid_search.best_params_}\")\n",
        "print(f\"Average Mean Squared Error: {avg_mse:.4f}\")\n",
        "print(f\"Average R² Score: {avg_r2:.4f}\")\n"
      ],
      "metadata": {
        "id": "rPGs_9uFIs-0"
      },
      "execution_count": null,
      "outputs": []
    },
    {
      "cell_type": "markdown",
      "source": [
        "Fitting 5 folds for each of 729 candidates, totalling 3645 fits\n",
        "\n",
        "Cross-Validation Progress:  20%|██        | 1/5 [00:00<00:02,  1.83it/s]\n",
        "\n",
        "Fold Mean Squared Error: 12.1309\n",
        "\n",
        "Fold R² Score: 0.8410\n",
        "\n",
        "Cross-Validation Progress:  40%|████      | 2/5 [00:02<00:04,  1.40s/it]\n",
        "\n",
        "Fold Mean Squared Error: 7.3648\n",
        "\n",
        "Fold R² Score: 0.8994\n",
        "\n",
        "Cross-Validation Progress:  80%|████████  | 4/5 [00:02<00:00,  1.68it/s]\n",
        "\n",
        "Fold Mean Squared Error: 17.9437\n",
        "\n",
        "Fold R² Score: 0.7764\n",
        "\n",
        "Fold Mean Squared Error: 15.8538\n",
        "\n",
        "Fold R² Score: 0.7864\n",
        "\n",
        "Cross-Validation Progress: 100%|██████████| 5/5 [00:03<00:00,  1.61it/s]\n",
        "\n",
        "Fold Mean Squared Error: 12.2929\n",
        "\n",
        "Fold R² Score: 0.8117\n",
        "\n",
        "Average Mean Squared Error: 13.1172\n",
        "\n",
        "Average R² Score: 0.8230\n",
        "\n",
        "Best Model Parameters: {'colsample_bytree': 0.8, 'learning_rate': 0.2,\n",
        "'max_depth': 7, 'min_child_weight': 1, 'n_estimators': 100, 'subsample': 0.9}\n",
        "\n",
        "Average Mean Squared Error: 13.1172\n",
        "\n",
        "Average R² Score: 0.8230\n"
      ],
      "metadata": {
        "id": "mEU2gTyQUm8W"
      }
    }
  ]
}