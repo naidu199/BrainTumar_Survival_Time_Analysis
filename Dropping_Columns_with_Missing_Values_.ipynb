{
  "nbformat": 4,
  "nbformat_minor": 0,
  "metadata": {
    "colab": {
      "provenance": [],
      "mount_file_id": "1YzVKcti-6ZRsle1IdO2MeEpT4empAEfx",
      "authorship_tag": "ABX9TyMmqxoTFD4Yu09vxDG2OhE2",
      "include_colab_link": true
    },
    "kernelspec": {
      "name": "python3",
      "display_name": "Python 3"
    },
    "language_info": {
      "name": "python"
    }
  },
  "cells": [
    {
      "cell_type": "markdown",
      "metadata": {
        "id": "view-in-github",
        "colab_type": "text"
      },
      "source": [
        "<a href=\"https://colab.research.google.com/github/naidu199/BrainTumar_Survival_Time_Analysis/blob/master/Dropping_Columns_with_Missing_Values_.ipynb\" target=\"_parent\"><img src=\"https://colab.research.google.com/assets/colab-badge.svg\" alt=\"Open In Colab\"/></a>"
      ]
    },
    {
      "cell_type": "code",
      "execution_count": 13,
      "metadata": {
        "id": "pmX0hMFbW352"
      },
      "outputs": [],
      "source": [
        "import numpy as np\n",
        "import pandas as pd\n",
        "import matplotlib.pyplot as plt\n",
        "import seaborn as sns"
      ]
    },
    {
      "cell_type": "code",
      "source": [
        "df =pd.read_csv(\"/content/drive/MyDrive/BrainTumarData/BrainTumor.csv\")\n"
      ],
      "metadata": {
        "id": "UAoiScFPW6U-"
      },
      "execution_count": 14,
      "outputs": []
    },
    {
      "cell_type": "code",
      "source": [
        "df.columns"
      ],
      "metadata": {
        "colab": {
          "base_uri": "https://localhost:8080/"
        },
        "id": "PejjO-1-W_JB",
        "outputId": "3ed251ea-e879-452c-d3c7-54631687fe50"
      },
      "execution_count": 15,
      "outputs": [
        {
          "output_type": "execute_result",
          "data": {
            "text/plain": [
              "Index(['Patient ID', 'Age', 'Gender', 'Tumor Type', 'Tumor Grade',\n",
              "       'Tumor Location', 'Treatment', 'Treatment Outcome',\n",
              "       'Time to Recurrence (months)', 'Recurrence Site',\n",
              "       'Survival Time (months)'],\n",
              "      dtype='object')"
            ]
          },
          "metadata": {},
          "execution_count": 15
        }
      ]
    },
    {
      "cell_type": "code",
      "source": [
        "df.info()"
      ],
      "metadata": {
        "colab": {
          "base_uri": "https://localhost:8080/"
        },
        "id": "89Y8JLYrXBsh",
        "outputId": "34ab5577-8f49-4771-ab3e-3f21edc7030e"
      },
      "execution_count": 16,
      "outputs": [
        {
          "output_type": "stream",
          "name": "stdout",
          "text": [
            "<class 'pandas.core.frame.DataFrame'>\n",
            "RangeIndex: 2000 entries, 0 to 1999\n",
            "Data columns (total 11 columns):\n",
            " #   Column                       Non-Null Count  Dtype  \n",
            "---  ------                       --------------  -----  \n",
            " 0   Patient ID                   2000 non-null   int64  \n",
            " 1   Age                          2000 non-null   int64  \n",
            " 2   Gender                       2000 non-null   object \n",
            " 3   Tumor Type                   2000 non-null   object \n",
            " 4   Tumor Grade                  2000 non-null   object \n",
            " 5   Tumor Location               2000 non-null   object \n",
            " 6   Treatment                    2000 non-null   object \n",
            " 7   Treatment Outcome            2000 non-null   object \n",
            " 8   Time to Recurrence (months)  1438 non-null   float64\n",
            " 9   Recurrence Site              1438 non-null   object \n",
            " 10  Survival Time (months)       2000 non-null   int64  \n",
            "dtypes: float64(1), int64(3), object(7)\n",
            "memory usage: 172.0+ KB\n"
          ]
        }
      ]
    },
    {
      "cell_type": "code",
      "source": [
        "df.isnull().sum()"
      ],
      "metadata": {
        "colab": {
          "base_uri": "https://localhost:8080/"
        },
        "id": "27ZmK6skXDiO",
        "outputId": "b71e373a-7f5c-4cab-fff5-1741c2b91a61"
      },
      "execution_count": 17,
      "outputs": [
        {
          "output_type": "execute_result",
          "data": {
            "text/plain": [
              "Patient ID                       0\n",
              "Age                              0\n",
              "Gender                           0\n",
              "Tumor Type                       0\n",
              "Tumor Grade                      0\n",
              "Tumor Location                   0\n",
              "Treatment                        0\n",
              "Treatment Outcome                0\n",
              "Time to Recurrence (months)    562\n",
              "Recurrence Site                562\n",
              "Survival Time (months)           0\n",
              "dtype: int64"
            ]
          },
          "metadata": {},
          "execution_count": 17
        }
      ]
    },
    {
      "cell_type": "code",
      "source": [
        "df=df.drop(columns=['Patient ID','Time to Recurrence (months)','Recurrence Site'])"
      ],
      "metadata": {
        "id": "Q9c4MpaRXI3y"
      },
      "execution_count": 18,
      "outputs": []
    },
    {
      "cell_type": "code",
      "source": [
        "df.head()"
      ],
      "metadata": {
        "colab": {
          "base_uri": "https://localhost:8080/",
          "height": 293
        },
        "id": "kJ4XFwybarXX",
        "outputId": "06d310a4-d182-4915-986e-e73e53348992"
      },
      "execution_count": 19,
      "outputs": [
        {
          "output_type": "execute_result",
          "data": {
            "text/plain": [
              "   Age  Gender    Tumor Type Tumor Grade  Tumor Location  \\\n",
              "0   45    Male  Glioblastoma          IV    Frontal lobe   \n",
              "1   55  Female    Meningioma           I   Parietal lobe   \n",
              "2   60    Male   Astrocytoma         III  Occipital lobe   \n",
              "3   50  Female  Glioblastoma          IV   Temporal lobe   \n",
              "4   65    Male   Astrocytoma          II    Frontal lobe   \n",
              "\n",
              "                     Treatment    Treatment Outcome  Survival Time (months)  \n",
              "0                      Surgery     Partial response                      18  \n",
              "1                      Surgery    Complete response                      36  \n",
              "2       Surgery + Chemotherapy  Progressive disease                      22  \n",
              "3  Surgery + Radiation therapy    Complete response                      12  \n",
              "4  Surgery + Radiation therapy     Partial response                      48  "
            ],
            "text/html": [
              "\n",
              "  <div id=\"df-f85c5a8e-8314-477c-8cc8-ced2e518256b\" class=\"colab-df-container\">\n",
              "    <div>\n",
              "<style scoped>\n",
              "    .dataframe tbody tr th:only-of-type {\n",
              "        vertical-align: middle;\n",
              "    }\n",
              "\n",
              "    .dataframe tbody tr th {\n",
              "        vertical-align: top;\n",
              "    }\n",
              "\n",
              "    .dataframe thead th {\n",
              "        text-align: right;\n",
              "    }\n",
              "</style>\n",
              "<table border=\"1\" class=\"dataframe\">\n",
              "  <thead>\n",
              "    <tr style=\"text-align: right;\">\n",
              "      <th></th>\n",
              "      <th>Age</th>\n",
              "      <th>Gender</th>\n",
              "      <th>Tumor Type</th>\n",
              "      <th>Tumor Grade</th>\n",
              "      <th>Tumor Location</th>\n",
              "      <th>Treatment</th>\n",
              "      <th>Treatment Outcome</th>\n",
              "      <th>Survival Time (months)</th>\n",
              "    </tr>\n",
              "  </thead>\n",
              "  <tbody>\n",
              "    <tr>\n",
              "      <th>0</th>\n",
              "      <td>45</td>\n",
              "      <td>Male</td>\n",
              "      <td>Glioblastoma</td>\n",
              "      <td>IV</td>\n",
              "      <td>Frontal lobe</td>\n",
              "      <td>Surgery</td>\n",
              "      <td>Partial response</td>\n",
              "      <td>18</td>\n",
              "    </tr>\n",
              "    <tr>\n",
              "      <th>1</th>\n",
              "      <td>55</td>\n",
              "      <td>Female</td>\n",
              "      <td>Meningioma</td>\n",
              "      <td>I</td>\n",
              "      <td>Parietal lobe</td>\n",
              "      <td>Surgery</td>\n",
              "      <td>Complete response</td>\n",
              "      <td>36</td>\n",
              "    </tr>\n",
              "    <tr>\n",
              "      <th>2</th>\n",
              "      <td>60</td>\n",
              "      <td>Male</td>\n",
              "      <td>Astrocytoma</td>\n",
              "      <td>III</td>\n",
              "      <td>Occipital lobe</td>\n",
              "      <td>Surgery + Chemotherapy</td>\n",
              "      <td>Progressive disease</td>\n",
              "      <td>22</td>\n",
              "    </tr>\n",
              "    <tr>\n",
              "      <th>3</th>\n",
              "      <td>50</td>\n",
              "      <td>Female</td>\n",
              "      <td>Glioblastoma</td>\n",
              "      <td>IV</td>\n",
              "      <td>Temporal lobe</td>\n",
              "      <td>Surgery + Radiation therapy</td>\n",
              "      <td>Complete response</td>\n",
              "      <td>12</td>\n",
              "    </tr>\n",
              "    <tr>\n",
              "      <th>4</th>\n",
              "      <td>65</td>\n",
              "      <td>Male</td>\n",
              "      <td>Astrocytoma</td>\n",
              "      <td>II</td>\n",
              "      <td>Frontal lobe</td>\n",
              "      <td>Surgery + Radiation therapy</td>\n",
              "      <td>Partial response</td>\n",
              "      <td>48</td>\n",
              "    </tr>\n",
              "  </tbody>\n",
              "</table>\n",
              "</div>\n",
              "    <div class=\"colab-df-buttons\">\n",
              "\n",
              "  <div class=\"colab-df-container\">\n",
              "    <button class=\"colab-df-convert\" onclick=\"convertToInteractive('df-f85c5a8e-8314-477c-8cc8-ced2e518256b')\"\n",
              "            title=\"Convert this dataframe to an interactive table.\"\n",
              "            style=\"display:none;\">\n",
              "\n",
              "  <svg xmlns=\"http://www.w3.org/2000/svg\" height=\"24px\" viewBox=\"0 -960 960 960\">\n",
              "    <path d=\"M120-120v-720h720v720H120Zm60-500h600v-160H180v160Zm220 220h160v-160H400v160Zm0 220h160v-160H400v160ZM180-400h160v-160H180v160Zm440 0h160v-160H620v160ZM180-180h160v-160H180v160Zm440 0h160v-160H620v160Z\"/>\n",
              "  </svg>\n",
              "    </button>\n",
              "\n",
              "  <style>\n",
              "    .colab-df-container {\n",
              "      display:flex;\n",
              "      gap: 12px;\n",
              "    }\n",
              "\n",
              "    .colab-df-convert {\n",
              "      background-color: #E8F0FE;\n",
              "      border: none;\n",
              "      border-radius: 50%;\n",
              "      cursor: pointer;\n",
              "      display: none;\n",
              "      fill: #1967D2;\n",
              "      height: 32px;\n",
              "      padding: 0 0 0 0;\n",
              "      width: 32px;\n",
              "    }\n",
              "\n",
              "    .colab-df-convert:hover {\n",
              "      background-color: #E2EBFA;\n",
              "      box-shadow: 0px 1px 2px rgba(60, 64, 67, 0.3), 0px 1px 3px 1px rgba(60, 64, 67, 0.15);\n",
              "      fill: #174EA6;\n",
              "    }\n",
              "\n",
              "    .colab-df-buttons div {\n",
              "      margin-bottom: 4px;\n",
              "    }\n",
              "\n",
              "    [theme=dark] .colab-df-convert {\n",
              "      background-color: #3B4455;\n",
              "      fill: #D2E3FC;\n",
              "    }\n",
              "\n",
              "    [theme=dark] .colab-df-convert:hover {\n",
              "      background-color: #434B5C;\n",
              "      box-shadow: 0px 1px 3px 1px rgba(0, 0, 0, 0.15);\n",
              "      filter: drop-shadow(0px 1px 2px rgba(0, 0, 0, 0.3));\n",
              "      fill: #FFFFFF;\n",
              "    }\n",
              "  </style>\n",
              "\n",
              "    <script>\n",
              "      const buttonEl =\n",
              "        document.querySelector('#df-f85c5a8e-8314-477c-8cc8-ced2e518256b button.colab-df-convert');\n",
              "      buttonEl.style.display =\n",
              "        google.colab.kernel.accessAllowed ? 'block' : 'none';\n",
              "\n",
              "      async function convertToInteractive(key) {\n",
              "        const element = document.querySelector('#df-f85c5a8e-8314-477c-8cc8-ced2e518256b');\n",
              "        const dataTable =\n",
              "          await google.colab.kernel.invokeFunction('convertToInteractive',\n",
              "                                                    [key], {});\n",
              "        if (!dataTable) return;\n",
              "\n",
              "        const docLinkHtml = 'Like what you see? Visit the ' +\n",
              "          '<a target=\"_blank\" href=https://colab.research.google.com/notebooks/data_table.ipynb>data table notebook</a>'\n",
              "          + ' to learn more about interactive tables.';\n",
              "        element.innerHTML = '';\n",
              "        dataTable['output_type'] = 'display_data';\n",
              "        await google.colab.output.renderOutput(dataTable, element);\n",
              "        const docLink = document.createElement('div');\n",
              "        docLink.innerHTML = docLinkHtml;\n",
              "        element.appendChild(docLink);\n",
              "      }\n",
              "    </script>\n",
              "  </div>\n",
              "\n",
              "\n",
              "<div id=\"df-27aeda30-85b1-48f6-943e-8f18a5f7abae\">\n",
              "  <button class=\"colab-df-quickchart\" onclick=\"quickchart('df-27aeda30-85b1-48f6-943e-8f18a5f7abae')\"\n",
              "            title=\"Suggest charts\"\n",
              "            style=\"display:none;\">\n",
              "\n",
              "<svg xmlns=\"http://www.w3.org/2000/svg\" height=\"24px\"viewBox=\"0 0 24 24\"\n",
              "     width=\"24px\">\n",
              "    <g>\n",
              "        <path d=\"M19 3H5c-1.1 0-2 .9-2 2v14c0 1.1.9 2 2 2h14c1.1 0 2-.9 2-2V5c0-1.1-.9-2-2-2zM9 17H7v-7h2v7zm4 0h-2V7h2v10zm4 0h-2v-4h2v4z\"/>\n",
              "    </g>\n",
              "</svg>\n",
              "  </button>\n",
              "\n",
              "<style>\n",
              "  .colab-df-quickchart {\n",
              "      --bg-color: #E8F0FE;\n",
              "      --fill-color: #1967D2;\n",
              "      --hover-bg-color: #E2EBFA;\n",
              "      --hover-fill-color: #174EA6;\n",
              "      --disabled-fill-color: #AAA;\n",
              "      --disabled-bg-color: #DDD;\n",
              "  }\n",
              "\n",
              "  [theme=dark] .colab-df-quickchart {\n",
              "      --bg-color: #3B4455;\n",
              "      --fill-color: #D2E3FC;\n",
              "      --hover-bg-color: #434B5C;\n",
              "      --hover-fill-color: #FFFFFF;\n",
              "      --disabled-bg-color: #3B4455;\n",
              "      --disabled-fill-color: #666;\n",
              "  }\n",
              "\n",
              "  .colab-df-quickchart {\n",
              "    background-color: var(--bg-color);\n",
              "    border: none;\n",
              "    border-radius: 50%;\n",
              "    cursor: pointer;\n",
              "    display: none;\n",
              "    fill: var(--fill-color);\n",
              "    height: 32px;\n",
              "    padding: 0;\n",
              "    width: 32px;\n",
              "  }\n",
              "\n",
              "  .colab-df-quickchart:hover {\n",
              "    background-color: var(--hover-bg-color);\n",
              "    box-shadow: 0 1px 2px rgba(60, 64, 67, 0.3), 0 1px 3px 1px rgba(60, 64, 67, 0.15);\n",
              "    fill: var(--button-hover-fill-color);\n",
              "  }\n",
              "\n",
              "  .colab-df-quickchart-complete:disabled,\n",
              "  .colab-df-quickchart-complete:disabled:hover {\n",
              "    background-color: var(--disabled-bg-color);\n",
              "    fill: var(--disabled-fill-color);\n",
              "    box-shadow: none;\n",
              "  }\n",
              "\n",
              "  .colab-df-spinner {\n",
              "    border: 2px solid var(--fill-color);\n",
              "    border-color: transparent;\n",
              "    border-bottom-color: var(--fill-color);\n",
              "    animation:\n",
              "      spin 1s steps(1) infinite;\n",
              "  }\n",
              "\n",
              "  @keyframes spin {\n",
              "    0% {\n",
              "      border-color: transparent;\n",
              "      border-bottom-color: var(--fill-color);\n",
              "      border-left-color: var(--fill-color);\n",
              "    }\n",
              "    20% {\n",
              "      border-color: transparent;\n",
              "      border-left-color: var(--fill-color);\n",
              "      border-top-color: var(--fill-color);\n",
              "    }\n",
              "    30% {\n",
              "      border-color: transparent;\n",
              "      border-left-color: var(--fill-color);\n",
              "      border-top-color: var(--fill-color);\n",
              "      border-right-color: var(--fill-color);\n",
              "    }\n",
              "    40% {\n",
              "      border-color: transparent;\n",
              "      border-right-color: var(--fill-color);\n",
              "      border-top-color: var(--fill-color);\n",
              "    }\n",
              "    60% {\n",
              "      border-color: transparent;\n",
              "      border-right-color: var(--fill-color);\n",
              "    }\n",
              "    80% {\n",
              "      border-color: transparent;\n",
              "      border-right-color: var(--fill-color);\n",
              "      border-bottom-color: var(--fill-color);\n",
              "    }\n",
              "    90% {\n",
              "      border-color: transparent;\n",
              "      border-bottom-color: var(--fill-color);\n",
              "    }\n",
              "  }\n",
              "</style>\n",
              "\n",
              "  <script>\n",
              "    async function quickchart(key) {\n",
              "      const quickchartButtonEl =\n",
              "        document.querySelector('#' + key + ' button');\n",
              "      quickchartButtonEl.disabled = true;  // To prevent multiple clicks.\n",
              "      quickchartButtonEl.classList.add('colab-df-spinner');\n",
              "      try {\n",
              "        const charts = await google.colab.kernel.invokeFunction(\n",
              "            'suggestCharts', [key], {});\n",
              "      } catch (error) {\n",
              "        console.error('Error during call to suggestCharts:', error);\n",
              "      }\n",
              "      quickchartButtonEl.classList.remove('colab-df-spinner');\n",
              "      quickchartButtonEl.classList.add('colab-df-quickchart-complete');\n",
              "    }\n",
              "    (() => {\n",
              "      let quickchartButtonEl =\n",
              "        document.querySelector('#df-27aeda30-85b1-48f6-943e-8f18a5f7abae button');\n",
              "      quickchartButtonEl.style.display =\n",
              "        google.colab.kernel.accessAllowed ? 'block' : 'none';\n",
              "    })();\n",
              "  </script>\n",
              "</div>\n",
              "\n",
              "    </div>\n",
              "  </div>\n"
            ],
            "application/vnd.google.colaboratory.intrinsic+json": {
              "type": "dataframe",
              "variable_name": "df",
              "summary": "{\n  \"name\": \"df\",\n  \"rows\": 2000,\n  \"fields\": [\n    {\n      \"column\": \"Age\",\n      \"properties\": {\n        \"dtype\": \"number\",\n        \"std\": 6,\n        \"min\": 42,\n        \"max\": 72,\n        \"num_unique_values\": 31,\n        \"samples\": [\n          69,\n          49,\n          64\n        ],\n        \"semantic_type\": \"\",\n        \"description\": \"\"\n      }\n    },\n    {\n      \"column\": \"Gender\",\n      \"properties\": {\n        \"dtype\": \"category\",\n        \"num_unique_values\": 2,\n        \"samples\": [\n          \"Female\",\n          \"Male\"\n        ],\n        \"semantic_type\": \"\",\n        \"description\": \"\"\n      }\n    },\n    {\n      \"column\": \"Tumor Type\",\n      \"properties\": {\n        \"dtype\": \"category\",\n        \"num_unique_values\": 3,\n        \"samples\": [\n          \"Glioblastoma\",\n          \"Meningioma\"\n        ],\n        \"semantic_type\": \"\",\n        \"description\": \"\"\n      }\n    },\n    {\n      \"column\": \"Tumor Grade\",\n      \"properties\": {\n        \"dtype\": \"category\",\n        \"num_unique_values\": 4,\n        \"samples\": [\n          \"I\",\n          \"II\"\n        ],\n        \"semantic_type\": \"\",\n        \"description\": \"\"\n      }\n    },\n    {\n      \"column\": \"Tumor Location\",\n      \"properties\": {\n        \"dtype\": \"category\",\n        \"num_unique_values\": 4,\n        \"samples\": [\n          \"Parietal lobe\",\n          \"Temporal lobe\"\n        ],\n        \"semantic_type\": \"\",\n        \"description\": \"\"\n      }\n    },\n    {\n      \"column\": \"Treatment\",\n      \"properties\": {\n        \"dtype\": \"category\",\n        \"num_unique_values\": 7,\n        \"samples\": [\n          \"Surgery\",\n          \"Surgery + Chemotherapy\"\n        ],\n        \"semantic_type\": \"\",\n        \"description\": \"\"\n      }\n    },\n    {\n      \"column\": \"Treatment Outcome\",\n      \"properties\": {\n        \"dtype\": \"category\",\n        \"num_unique_values\": 4,\n        \"samples\": [\n          \"Complete response\",\n          \"Stable disease\"\n        ],\n        \"semantic_type\": \"\",\n        \"description\": \"\"\n      }\n    },\n    {\n      \"column\": \"Survival Time (months)\",\n      \"properties\": {\n        \"dtype\": \"number\",\n        \"std\": 8,\n        \"min\": 9,\n        \"max\": 72,\n        \"num_unique_values\": 19,\n        \"samples\": [\n          18,\n          15\n        ],\n        \"semantic_type\": \"\",\n        \"description\": \"\"\n      }\n    }\n  ]\n}"
            }
          },
          "metadata": {},
          "execution_count": 19
        }
      ]
    },
    {
      "cell_type": "code",
      "source": [
        "df.dtypes"
      ],
      "metadata": {
        "colab": {
          "base_uri": "https://localhost:8080/"
        },
        "id": "5-7ctD-3as4h",
        "outputId": "f56ff889-5975-43e5-b0b5-488136694a9b"
      },
      "execution_count": 20,
      "outputs": [
        {
          "output_type": "execute_result",
          "data": {
            "text/plain": [
              "Age                        int64\n",
              "Gender                    object\n",
              "Tumor Type                object\n",
              "Tumor Grade               object\n",
              "Tumor Location            object\n",
              "Treatment                 object\n",
              "Treatment Outcome         object\n",
              "Survival Time (months)     int64\n",
              "dtype: object"
            ]
          },
          "metadata": {},
          "execution_count": 20
        }
      ]
    },
    {
      "cell_type": "code",
      "source": [
        "unique_counts = df.nunique()\n",
        "unique_counts"
      ],
      "metadata": {
        "colab": {
          "base_uri": "https://localhost:8080/"
        },
        "id": "H_bcQdt0az2a",
        "outputId": "f2aa4586-e820-4244-932b-0b274aac1e70"
      },
      "execution_count": 21,
      "outputs": [
        {
          "output_type": "execute_result",
          "data": {
            "text/plain": [
              "Age                       31\n",
              "Gender                     2\n",
              "Tumor Type                 3\n",
              "Tumor Grade                4\n",
              "Tumor Location             4\n",
              "Treatment                  7\n",
              "Treatment Outcome          4\n",
              "Survival Time (months)    19\n",
              "dtype: int64"
            ]
          },
          "metadata": {},
          "execution_count": 21
        }
      ]
    },
    {
      "cell_type": "code",
      "source": [
        "from sklearn.preprocessing import LabelEncoder\n",
        "le = LabelEncoder()\n",
        "\n",
        "# List of categorical columns\n",
        "categorical_columns = ['Gender', 'Tumor Type', 'Tumor Grade', 'Tumor Location', 'Treatment', 'Treatment Outcome']\n",
        "\n",
        "# Apply Label Encoding\n",
        "for column in categorical_columns:\n",
        "    df[column] = le.fit_transform(df[column])\n",
        "\n",
        "df.head()"
      ],
      "metadata": {
        "colab": {
          "base_uri": "https://localhost:8080/",
          "height": 223
        },
        "id": "9PYdjmqdbGKh",
        "outputId": "78a21f72-d554-4278-a5c2-dd56dfb0ebbd"
      },
      "execution_count": 22,
      "outputs": [
        {
          "output_type": "execute_result",
          "data": {
            "text/plain": [
              "   Age  Gender  Tumor Type  Tumor Grade  Tumor Location  Treatment  \\\n",
              "0   45       1           1            3               0          3   \n",
              "1   55       0           2            0               2          3   \n",
              "2   60       1           0            2               1          4   \n",
              "3   50       0           1            3               3          6   \n",
              "4   65       1           0            1               0          6   \n",
              "\n",
              "   Treatment Outcome  Survival Time (months)  \n",
              "0                  1                      18  \n",
              "1                  0                      36  \n",
              "2                  2                      22  \n",
              "3                  0                      12  \n",
              "4                  1                      48  "
            ],
            "text/html": [
              "\n",
              "  <div id=\"df-dbce8192-d8a5-405d-9253-6f23d23e32ae\" class=\"colab-df-container\">\n",
              "    <div>\n",
              "<style scoped>\n",
              "    .dataframe tbody tr th:only-of-type {\n",
              "        vertical-align: middle;\n",
              "    }\n",
              "\n",
              "    .dataframe tbody tr th {\n",
              "        vertical-align: top;\n",
              "    }\n",
              "\n",
              "    .dataframe thead th {\n",
              "        text-align: right;\n",
              "    }\n",
              "</style>\n",
              "<table border=\"1\" class=\"dataframe\">\n",
              "  <thead>\n",
              "    <tr style=\"text-align: right;\">\n",
              "      <th></th>\n",
              "      <th>Age</th>\n",
              "      <th>Gender</th>\n",
              "      <th>Tumor Type</th>\n",
              "      <th>Tumor Grade</th>\n",
              "      <th>Tumor Location</th>\n",
              "      <th>Treatment</th>\n",
              "      <th>Treatment Outcome</th>\n",
              "      <th>Survival Time (months)</th>\n",
              "    </tr>\n",
              "  </thead>\n",
              "  <tbody>\n",
              "    <tr>\n",
              "      <th>0</th>\n",
              "      <td>45</td>\n",
              "      <td>1</td>\n",
              "      <td>1</td>\n",
              "      <td>3</td>\n",
              "      <td>0</td>\n",
              "      <td>3</td>\n",
              "      <td>1</td>\n",
              "      <td>18</td>\n",
              "    </tr>\n",
              "    <tr>\n",
              "      <th>1</th>\n",
              "      <td>55</td>\n",
              "      <td>0</td>\n",
              "      <td>2</td>\n",
              "      <td>0</td>\n",
              "      <td>2</td>\n",
              "      <td>3</td>\n",
              "      <td>0</td>\n",
              "      <td>36</td>\n",
              "    </tr>\n",
              "    <tr>\n",
              "      <th>2</th>\n",
              "      <td>60</td>\n",
              "      <td>1</td>\n",
              "      <td>0</td>\n",
              "      <td>2</td>\n",
              "      <td>1</td>\n",
              "      <td>4</td>\n",
              "      <td>2</td>\n",
              "      <td>22</td>\n",
              "    </tr>\n",
              "    <tr>\n",
              "      <th>3</th>\n",
              "      <td>50</td>\n",
              "      <td>0</td>\n",
              "      <td>1</td>\n",
              "      <td>3</td>\n",
              "      <td>3</td>\n",
              "      <td>6</td>\n",
              "      <td>0</td>\n",
              "      <td>12</td>\n",
              "    </tr>\n",
              "    <tr>\n",
              "      <th>4</th>\n",
              "      <td>65</td>\n",
              "      <td>1</td>\n",
              "      <td>0</td>\n",
              "      <td>1</td>\n",
              "      <td>0</td>\n",
              "      <td>6</td>\n",
              "      <td>1</td>\n",
              "      <td>48</td>\n",
              "    </tr>\n",
              "  </tbody>\n",
              "</table>\n",
              "</div>\n",
              "    <div class=\"colab-df-buttons\">\n",
              "\n",
              "  <div class=\"colab-df-container\">\n",
              "    <button class=\"colab-df-convert\" onclick=\"convertToInteractive('df-dbce8192-d8a5-405d-9253-6f23d23e32ae')\"\n",
              "            title=\"Convert this dataframe to an interactive table.\"\n",
              "            style=\"display:none;\">\n",
              "\n",
              "  <svg xmlns=\"http://www.w3.org/2000/svg\" height=\"24px\" viewBox=\"0 -960 960 960\">\n",
              "    <path d=\"M120-120v-720h720v720H120Zm60-500h600v-160H180v160Zm220 220h160v-160H400v160Zm0 220h160v-160H400v160ZM180-400h160v-160H180v160Zm440 0h160v-160H620v160ZM180-180h160v-160H180v160Zm440 0h160v-160H620v160Z\"/>\n",
              "  </svg>\n",
              "    </button>\n",
              "\n",
              "  <style>\n",
              "    .colab-df-container {\n",
              "      display:flex;\n",
              "      gap: 12px;\n",
              "    }\n",
              "\n",
              "    .colab-df-convert {\n",
              "      background-color: #E8F0FE;\n",
              "      border: none;\n",
              "      border-radius: 50%;\n",
              "      cursor: pointer;\n",
              "      display: none;\n",
              "      fill: #1967D2;\n",
              "      height: 32px;\n",
              "      padding: 0 0 0 0;\n",
              "      width: 32px;\n",
              "    }\n",
              "\n",
              "    .colab-df-convert:hover {\n",
              "      background-color: #E2EBFA;\n",
              "      box-shadow: 0px 1px 2px rgba(60, 64, 67, 0.3), 0px 1px 3px 1px rgba(60, 64, 67, 0.15);\n",
              "      fill: #174EA6;\n",
              "    }\n",
              "\n",
              "    .colab-df-buttons div {\n",
              "      margin-bottom: 4px;\n",
              "    }\n",
              "\n",
              "    [theme=dark] .colab-df-convert {\n",
              "      background-color: #3B4455;\n",
              "      fill: #D2E3FC;\n",
              "    }\n",
              "\n",
              "    [theme=dark] .colab-df-convert:hover {\n",
              "      background-color: #434B5C;\n",
              "      box-shadow: 0px 1px 3px 1px rgba(0, 0, 0, 0.15);\n",
              "      filter: drop-shadow(0px 1px 2px rgba(0, 0, 0, 0.3));\n",
              "      fill: #FFFFFF;\n",
              "    }\n",
              "  </style>\n",
              "\n",
              "    <script>\n",
              "      const buttonEl =\n",
              "        document.querySelector('#df-dbce8192-d8a5-405d-9253-6f23d23e32ae button.colab-df-convert');\n",
              "      buttonEl.style.display =\n",
              "        google.colab.kernel.accessAllowed ? 'block' : 'none';\n",
              "\n",
              "      async function convertToInteractive(key) {\n",
              "        const element = document.querySelector('#df-dbce8192-d8a5-405d-9253-6f23d23e32ae');\n",
              "        const dataTable =\n",
              "          await google.colab.kernel.invokeFunction('convertToInteractive',\n",
              "                                                    [key], {});\n",
              "        if (!dataTable) return;\n",
              "\n",
              "        const docLinkHtml = 'Like what you see? Visit the ' +\n",
              "          '<a target=\"_blank\" href=https://colab.research.google.com/notebooks/data_table.ipynb>data table notebook</a>'\n",
              "          + ' to learn more about interactive tables.';\n",
              "        element.innerHTML = '';\n",
              "        dataTable['output_type'] = 'display_data';\n",
              "        await google.colab.output.renderOutput(dataTable, element);\n",
              "        const docLink = document.createElement('div');\n",
              "        docLink.innerHTML = docLinkHtml;\n",
              "        element.appendChild(docLink);\n",
              "      }\n",
              "    </script>\n",
              "  </div>\n",
              "\n",
              "\n",
              "<div id=\"df-59bebd82-b8ca-416c-bf1c-6bf09e7632b7\">\n",
              "  <button class=\"colab-df-quickchart\" onclick=\"quickchart('df-59bebd82-b8ca-416c-bf1c-6bf09e7632b7')\"\n",
              "            title=\"Suggest charts\"\n",
              "            style=\"display:none;\">\n",
              "\n",
              "<svg xmlns=\"http://www.w3.org/2000/svg\" height=\"24px\"viewBox=\"0 0 24 24\"\n",
              "     width=\"24px\">\n",
              "    <g>\n",
              "        <path d=\"M19 3H5c-1.1 0-2 .9-2 2v14c0 1.1.9 2 2 2h14c1.1 0 2-.9 2-2V5c0-1.1-.9-2-2-2zM9 17H7v-7h2v7zm4 0h-2V7h2v10zm4 0h-2v-4h2v4z\"/>\n",
              "    </g>\n",
              "</svg>\n",
              "  </button>\n",
              "\n",
              "<style>\n",
              "  .colab-df-quickchart {\n",
              "      --bg-color: #E8F0FE;\n",
              "      --fill-color: #1967D2;\n",
              "      --hover-bg-color: #E2EBFA;\n",
              "      --hover-fill-color: #174EA6;\n",
              "      --disabled-fill-color: #AAA;\n",
              "      --disabled-bg-color: #DDD;\n",
              "  }\n",
              "\n",
              "  [theme=dark] .colab-df-quickchart {\n",
              "      --bg-color: #3B4455;\n",
              "      --fill-color: #D2E3FC;\n",
              "      --hover-bg-color: #434B5C;\n",
              "      --hover-fill-color: #FFFFFF;\n",
              "      --disabled-bg-color: #3B4455;\n",
              "      --disabled-fill-color: #666;\n",
              "  }\n",
              "\n",
              "  .colab-df-quickchart {\n",
              "    background-color: var(--bg-color);\n",
              "    border: none;\n",
              "    border-radius: 50%;\n",
              "    cursor: pointer;\n",
              "    display: none;\n",
              "    fill: var(--fill-color);\n",
              "    height: 32px;\n",
              "    padding: 0;\n",
              "    width: 32px;\n",
              "  }\n",
              "\n",
              "  .colab-df-quickchart:hover {\n",
              "    background-color: var(--hover-bg-color);\n",
              "    box-shadow: 0 1px 2px rgba(60, 64, 67, 0.3), 0 1px 3px 1px rgba(60, 64, 67, 0.15);\n",
              "    fill: var(--button-hover-fill-color);\n",
              "  }\n",
              "\n",
              "  .colab-df-quickchart-complete:disabled,\n",
              "  .colab-df-quickchart-complete:disabled:hover {\n",
              "    background-color: var(--disabled-bg-color);\n",
              "    fill: var(--disabled-fill-color);\n",
              "    box-shadow: none;\n",
              "  }\n",
              "\n",
              "  .colab-df-spinner {\n",
              "    border: 2px solid var(--fill-color);\n",
              "    border-color: transparent;\n",
              "    border-bottom-color: var(--fill-color);\n",
              "    animation:\n",
              "      spin 1s steps(1) infinite;\n",
              "  }\n",
              "\n",
              "  @keyframes spin {\n",
              "    0% {\n",
              "      border-color: transparent;\n",
              "      border-bottom-color: var(--fill-color);\n",
              "      border-left-color: var(--fill-color);\n",
              "    }\n",
              "    20% {\n",
              "      border-color: transparent;\n",
              "      border-left-color: var(--fill-color);\n",
              "      border-top-color: var(--fill-color);\n",
              "    }\n",
              "    30% {\n",
              "      border-color: transparent;\n",
              "      border-left-color: var(--fill-color);\n",
              "      border-top-color: var(--fill-color);\n",
              "      border-right-color: var(--fill-color);\n",
              "    }\n",
              "    40% {\n",
              "      border-color: transparent;\n",
              "      border-right-color: var(--fill-color);\n",
              "      border-top-color: var(--fill-color);\n",
              "    }\n",
              "    60% {\n",
              "      border-color: transparent;\n",
              "      border-right-color: var(--fill-color);\n",
              "    }\n",
              "    80% {\n",
              "      border-color: transparent;\n",
              "      border-right-color: var(--fill-color);\n",
              "      border-bottom-color: var(--fill-color);\n",
              "    }\n",
              "    90% {\n",
              "      border-color: transparent;\n",
              "      border-bottom-color: var(--fill-color);\n",
              "    }\n",
              "  }\n",
              "</style>\n",
              "\n",
              "  <script>\n",
              "    async function quickchart(key) {\n",
              "      const quickchartButtonEl =\n",
              "        document.querySelector('#' + key + ' button');\n",
              "      quickchartButtonEl.disabled = true;  // To prevent multiple clicks.\n",
              "      quickchartButtonEl.classList.add('colab-df-spinner');\n",
              "      try {\n",
              "        const charts = await google.colab.kernel.invokeFunction(\n",
              "            'suggestCharts', [key], {});\n",
              "      } catch (error) {\n",
              "        console.error('Error during call to suggestCharts:', error);\n",
              "      }\n",
              "      quickchartButtonEl.classList.remove('colab-df-spinner');\n",
              "      quickchartButtonEl.classList.add('colab-df-quickchart-complete');\n",
              "    }\n",
              "    (() => {\n",
              "      let quickchartButtonEl =\n",
              "        document.querySelector('#df-59bebd82-b8ca-416c-bf1c-6bf09e7632b7 button');\n",
              "      quickchartButtonEl.style.display =\n",
              "        google.colab.kernel.accessAllowed ? 'block' : 'none';\n",
              "    })();\n",
              "  </script>\n",
              "</div>\n",
              "\n",
              "    </div>\n",
              "  </div>\n"
            ],
            "application/vnd.google.colaboratory.intrinsic+json": {
              "type": "dataframe",
              "variable_name": "df",
              "summary": "{\n  \"name\": \"df\",\n  \"rows\": 2000,\n  \"fields\": [\n    {\n      \"column\": \"Age\",\n      \"properties\": {\n        \"dtype\": \"number\",\n        \"std\": 6,\n        \"min\": 42,\n        \"max\": 72,\n        \"num_unique_values\": 31,\n        \"samples\": [\n          69,\n          49,\n          64\n        ],\n        \"semantic_type\": \"\",\n        \"description\": \"\"\n      }\n    },\n    {\n      \"column\": \"Gender\",\n      \"properties\": {\n        \"dtype\": \"number\",\n        \"std\": 0,\n        \"min\": 0,\n        \"max\": 1,\n        \"num_unique_values\": 2,\n        \"samples\": [\n          0,\n          1\n        ],\n        \"semantic_type\": \"\",\n        \"description\": \"\"\n      }\n    },\n    {\n      \"column\": \"Tumor Type\",\n      \"properties\": {\n        \"dtype\": \"number\",\n        \"std\": 0,\n        \"min\": 0,\n        \"max\": 2,\n        \"num_unique_values\": 3,\n        \"samples\": [\n          1,\n          2\n        ],\n        \"semantic_type\": \"\",\n        \"description\": \"\"\n      }\n    },\n    {\n      \"column\": \"Tumor Grade\",\n      \"properties\": {\n        \"dtype\": \"number\",\n        \"std\": 1,\n        \"min\": 0,\n        \"max\": 3,\n        \"num_unique_values\": 4,\n        \"samples\": [\n          0,\n          1\n        ],\n        \"semantic_type\": \"\",\n        \"description\": \"\"\n      }\n    },\n    {\n      \"column\": \"Tumor Location\",\n      \"properties\": {\n        \"dtype\": \"number\",\n        \"std\": 1,\n        \"min\": 0,\n        \"max\": 3,\n        \"num_unique_values\": 4,\n        \"samples\": [\n          2,\n          3\n        ],\n        \"semantic_type\": \"\",\n        \"description\": \"\"\n      }\n    },\n    {\n      \"column\": \"Treatment\",\n      \"properties\": {\n        \"dtype\": \"number\",\n        \"std\": 1,\n        \"min\": 0,\n        \"max\": 6,\n        \"num_unique_values\": 7,\n        \"samples\": [\n          3,\n          4\n        ],\n        \"semantic_type\": \"\",\n        \"description\": \"\"\n      }\n    },\n    {\n      \"column\": \"Treatment Outcome\",\n      \"properties\": {\n        \"dtype\": \"number\",\n        \"std\": 1,\n        \"min\": 0,\n        \"max\": 3,\n        \"num_unique_values\": 4,\n        \"samples\": [\n          0,\n          3\n        ],\n        \"semantic_type\": \"\",\n        \"description\": \"\"\n      }\n    },\n    {\n      \"column\": \"Survival Time (months)\",\n      \"properties\": {\n        \"dtype\": \"number\",\n        \"std\": 8,\n        \"min\": 9,\n        \"max\": 72,\n        \"num_unique_values\": 19,\n        \"samples\": [\n          18,\n          15\n        ],\n        \"semantic_type\": \"\",\n        \"description\": \"\"\n      }\n    }\n  ]\n}"
            }
          },
          "metadata": {},
          "execution_count": 22
        }
      ]
    },
    {
      "cell_type": "code",
      "source": [
        "#spliting featues and the target varibles\n",
        "X=df.drop(columns=['Survival Time (months)'])\n",
        "Y=df['Survival Time (months)']\n"
      ],
      "metadata": {
        "id": "7-cocP-nbSsF"
      },
      "execution_count": 28,
      "outputs": []
    },
    {
      "cell_type": "code",
      "source": [
        "from sklearn.model_selection import KFold\n",
        "from sklearn.metrics import mean_squared_error, r2_score\n",
        "from sklearn.linear_model import LinearRegression\n",
        "from tqdm import tqdm"
      ],
      "metadata": {
        "id": "bQN-filRboVU"
      },
      "execution_count": 29,
      "outputs": []
    },
    {
      "cell_type": "code",
      "source": [
        "\n",
        "\n",
        "def cross_validate_model(model, X, y, n_splits=5, random_state=42):\n",
        "    \"\"\"\n",
        "    Perform K-Fold cross-validation on the given model.\n",
        "\n",
        "    Parameters:\n",
        "    - model: The regression model to be evaluated.\n",
        "    - X: Feature DataFrame.\n",
        "    - y: Target Series.\n",
        "    - n_splits: Number of folds for cross-validation.\n",
        "    - random_state: Random seed for reproducibility.\n",
        "\n",
        "    Returns:\n",
        "    - A tuple containing average Mean Squared Error and R² score.\n",
        "    \"\"\"\n",
        "    kf = KFold(n_splits=n_splits, shuffle=True, random_state=random_state)\n",
        "    mse_scores = []\n",
        "    r2_scores = []\n",
        "\n",
        "    for train_index, test_index in tqdm(kf.split(X), total=kf.get_n_splits(), desc=\"Cross-Validation Progress\"):\n",
        "        X_train, X_test = X.iloc[train_index], X.iloc[test_index]\n",
        "        y_train, y_test = y.iloc[train_index], y.iloc[test_index]\n",
        "\n",
        "        model.fit(X_train, y_train)\n",
        "        predictions = model.predict(X_test)\n",
        "\n",
        "        mse_score = mean_squared_error(y_test, predictions)\n",
        "        r2_score_value = r2_score(y_test, predictions)\n",
        "\n",
        "        mse_scores.append(mse_score)\n",
        "        r2_scores.append(r2_score_value)\n",
        "\n",
        "        print(f\"Fold Mean Squared Error: {mse_score:.4f}\")\n",
        "        print(f\"Fold R² Score: {r2_score_value:.4f}\")\n",
        "\n",
        "    avg_mse = np.mean(mse_scores)\n",
        "    avg_r2 = np.mean(r2_scores)\n",
        "\n",
        "    print(f\"Average Mean Squared Error: {avg_mse:.4f}\")\n",
        "    print(f\"Average R² Score: {avg_r2:.4f}\")\n",
        "\n",
        "    return avg_mse, avg_r2\n",
        ""
      ],
      "metadata": {
        "id": "fGGDzt_McAxN"
      },
      "execution_count": 30,
      "outputs": []
    },
    {
      "cell_type": "code",
      "source": [
        "from sklearn.linear_model import LinearRegression\n",
        "\n",
        "\n",
        "# Assuming X_scaled_df and y are already defined\n",
        "\n",
        "# Test Linear Regression\n",
        "print(\"Testing Linear Regression\")\n",
        "linear_model = LinearRegression()\n",
        "result= cross_validate_model(linear_model, X, Y)\n",
        "\n",
        "print(\"Linear Regression\",  result)"
      ],
      "metadata": {
        "colab": {
          "base_uri": "https://localhost:8080/"
        },
        "id": "1xvmxOivcEgL",
        "outputId": "878fd910-a2a6-46b0-db5f-cada9a059f3e"
      },
      "execution_count": 31,
      "outputs": [
        {
          "output_type": "stream",
          "name": "stdout",
          "text": [
            "Testing Linear Regression\n"
          ]
        },
        {
          "output_type": "stream",
          "name": "stderr",
          "text": [
            "Cross-Validation Progress: 100%|██████████| 5/5 [00:00<00:00, 59.82it/s]"
          ]
        },
        {
          "output_type": "stream",
          "name": "stdout",
          "text": [
            "Fold Mean Squared Error: 60.4515\n",
            "Fold R² Score: 0.2076\n",
            "Fold Mean Squared Error: 58.0156\n",
            "Fold R² Score: 0.2077\n",
            "Fold Mean Squared Error: 59.0901\n",
            "Fold R² Score: 0.2637\n",
            "Fold Mean Squared Error: 56.6597\n",
            "Fold R² Score: 0.2366\n",
            "Fold Mean Squared Error: 48.2605\n",
            "Fold R² Score: 0.2609\n",
            "Average Mean Squared Error: 56.4955\n",
            "Average R² Score: 0.2353\n",
            "Linear Regression (56.495465816769844, 0.23531063055740936)\n"
          ]
        },
        {
          "output_type": "stream",
          "name": "stderr",
          "text": [
            "\n"
          ]
        }
      ]
    },
    {
      "cell_type": "code",
      "source": [
        "from sklearn.svm import SVR\n",
        "from sklearn.ensemble import RandomForestRegressor\n",
        "from sklearn.tree import DecisionTreeRegressor"
      ],
      "metadata": {
        "id": "ajdWo8Eic39T"
      },
      "execution_count": 32,
      "outputs": []
    },
    {
      "cell_type": "code",
      "source": [
        "# Define models\n",
        "svm_model = SVR()\n",
        "random_forest_model = RandomForestRegressor()\n",
        "decision_tree_model = DecisionTreeRegressor()\n",
        "\n",
        "# Test SVM Regression\n",
        "print(\"Testing Support Vector Regression\")\n",
        "svm_result = cross_validate_model(svm_model, X, Y)\n",
        "print(\"Support Vector Regression:\", svm_result)\n",
        "\n",
        "# Test Random Forest Regression\n",
        "print(\"Testing Random Forest Regression\")\n",
        "rf_result = cross_validate_model(random_forest_model, X, Y)\n",
        "print(\"Random Forest Regression:\", rf_result)\n",
        "\n",
        "# Test Decision Tree Regression\n",
        "print(\"Testing Decision Tree Regression\")\n",
        "dt_result = cross_validate_model(decision_tree_model, X, Y)\n",
        "print(\"Decision Tree Regression:\", dt_result)\n"
      ],
      "metadata": {
        "colab": {
          "base_uri": "https://localhost:8080/"
        },
        "id": "HHQmyZQVdC2v",
        "outputId": "a8091f02-5f1c-486a-d46a-162039654308"
      },
      "execution_count": 33,
      "outputs": [
        {
          "output_type": "stream",
          "name": "stdout",
          "text": [
            "Testing Support Vector Regression\n"
          ]
        },
        {
          "output_type": "stream",
          "name": "stderr",
          "text": [
            "Cross-Validation Progress:  40%|████      | 2/5 [00:00<00:00,  3.78it/s]"
          ]
        },
        {
          "output_type": "stream",
          "name": "stdout",
          "text": [
            "Fold Mean Squared Error: 72.5747\n",
            "Fold R² Score: 0.0487\n",
            "Fold Mean Squared Error: 68.2450\n",
            "Fold R² Score: 0.0680\n"
          ]
        },
        {
          "output_type": "stream",
          "name": "stderr",
          "text": [
            "Cross-Validation Progress:  80%|████████  | 4/5 [00:00<00:00,  4.76it/s]"
          ]
        },
        {
          "output_type": "stream",
          "name": "stdout",
          "text": [
            "Fold Mean Squared Error: 74.2504\n",
            "Fold R² Score: 0.0748\n",
            "Fold Mean Squared Error: 69.6623\n",
            "Fold R² Score: 0.0614\n"
          ]
        },
        {
          "output_type": "stream",
          "name": "stderr",
          "text": [
            "Cross-Validation Progress: 100%|██████████| 5/5 [00:01<00:00,  4.52it/s]\n"
          ]
        },
        {
          "output_type": "stream",
          "name": "stdout",
          "text": [
            "Fold Mean Squared Error: 62.8830\n",
            "Fold R² Score: 0.0370\n",
            "Average Mean Squared Error: 69.5231\n",
            "Average R² Score: 0.0580\n",
            "Support Vector Regression: (69.52310536422388, 0.057982379266412455)\n",
            "Testing Random Forest Regression\n"
          ]
        },
        {
          "output_type": "stream",
          "name": "stderr",
          "text": [
            "Cross-Validation Progress:  20%|██        | 1/5 [00:00<00:01,  3.27it/s]"
          ]
        },
        {
          "output_type": "stream",
          "name": "stdout",
          "text": [
            "Fold Mean Squared Error: 19.6093\n",
            "Fold R² Score: 0.7430\n"
          ]
        },
        {
          "output_type": "stream",
          "name": "stderr",
          "text": [
            "\rCross-Validation Progress:  40%|████      | 2/5 [00:00<00:00,  3.27it/s]"
          ]
        },
        {
          "output_type": "stream",
          "name": "stdout",
          "text": [
            "Fold Mean Squared Error: 13.5572\n",
            "Fold R² Score: 0.8149\n"
          ]
        },
        {
          "output_type": "stream",
          "name": "stderr",
          "text": [
            "\rCross-Validation Progress:  60%|██████    | 3/5 [00:00<00:00,  3.31it/s]"
          ]
        },
        {
          "output_type": "stream",
          "name": "stdout",
          "text": [
            "Fold Mean Squared Error: 21.6792\n",
            "Fold R² Score: 0.7299\n"
          ]
        },
        {
          "output_type": "stream",
          "name": "stderr",
          "text": [
            "\rCross-Validation Progress:  80%|████████  | 4/5 [00:01<00:00,  3.36it/s]"
          ]
        },
        {
          "output_type": "stream",
          "name": "stdout",
          "text": [
            "Fold Mean Squared Error: 25.9099\n",
            "Fold R² Score: 0.6509\n"
          ]
        },
        {
          "output_type": "stream",
          "name": "stderr",
          "text": [
            "Cross-Validation Progress: 100%|██████████| 5/5 [00:01<00:00,  3.32it/s]\n"
          ]
        },
        {
          "output_type": "stream",
          "name": "stdout",
          "text": [
            "Fold Mean Squared Error: 18.3257\n",
            "Fold R² Score: 0.7193\n",
            "Average Mean Squared Error: 19.8163\n",
            "Average R² Score: 0.7316\n",
            "Random Forest Regression: (19.816272343524123, 0.7315884506712266)\n",
            "Testing Decision Tree Regression\n"
          ]
        },
        {
          "output_type": "stream",
          "name": "stderr",
          "text": [
            "Cross-Validation Progress: 100%|██████████| 5/5 [00:00<00:00, 114.11it/s]"
          ]
        },
        {
          "output_type": "stream",
          "name": "stdout",
          "text": [
            "Fold Mean Squared Error: 28.9476\n",
            "Fold R² Score: 0.6206\n",
            "Fold Mean Squared Error: 16.5654\n",
            "Fold R² Score: 0.7738\n",
            "Fold Mean Squared Error: 28.0750\n",
            "Fold R² Score: 0.6502\n",
            "Fold Mean Squared Error: 31.4353\n",
            "Fold R² Score: 0.5765\n",
            "Fold Mean Squared Error: 22.1734\n",
            "Fold R² Score: 0.6604\n",
            "Average Mean Squared Error: 25.4393\n",
            "Average R² Score: 0.6563\n",
            "Decision Tree Regression: (25.43932676666391, 0.656278359449397)\n"
          ]
        },
        {
          "output_type": "stream",
          "name": "stderr",
          "text": [
            "\n"
          ]
        }
      ]
    },
    {
      "cell_type": "code",
      "source": [
        "from xgboost import XGBRegressor\n",
        "\n",
        "# Define XGBoost model\n",
        "xgb_model = XGBRegressor()\n",
        "\n",
        "# Test XGBoost Regression\n",
        "print(\"Testing XGBoost Regression\")\n",
        "xgb_result = cross_validate_model(xgb_model, X, Y)\n",
        "print(\"XGBoost Regression:\", xgb_result)\n"
      ],
      "metadata": {
        "colab": {
          "base_uri": "https://localhost:8080/"
        },
        "id": "nlegcD0GdD2q",
        "outputId": "a618a1b4-7fec-4cbe-e07f-8b26170c9c07"
      },
      "execution_count": 34,
      "outputs": [
        {
          "output_type": "stream",
          "name": "stdout",
          "text": [
            "Testing XGBoost Regression\n"
          ]
        },
        {
          "output_type": "stream",
          "name": "stderr",
          "text": [
            "Cross-Validation Progress:  20%|██        | 1/5 [00:00<00:01,  3.43it/s]"
          ]
        },
        {
          "output_type": "stream",
          "name": "stdout",
          "text": [
            "Fold Mean Squared Error: 21.5589\n",
            "Fold R² Score: 0.7174\n"
          ]
        },
        {
          "output_type": "stream",
          "name": "stderr",
          "text": [
            "Cross-Validation Progress:  60%|██████    | 3/5 [00:00<00:00,  3.62it/s]"
          ]
        },
        {
          "output_type": "stream",
          "name": "stdout",
          "text": [
            "Fold Mean Squared Error: 13.2789\n",
            "Fold R² Score: 0.8187\n",
            "Fold Mean Squared Error: 20.1784\n",
            "Fold R² Score: 0.7486\n"
          ]
        },
        {
          "output_type": "stream",
          "name": "stderr",
          "text": [
            "Cross-Validation Progress: 100%|██████████| 5/5 [00:01<00:00,  4.80it/s]"
          ]
        },
        {
          "output_type": "stream",
          "name": "stdout",
          "text": [
            "Fold Mean Squared Error: 23.8994\n",
            "Fold R² Score: 0.6780\n",
            "Fold Mean Squared Error: 18.2951\n",
            "Fold R² Score: 0.7198\n",
            "Average Mean Squared Error: 19.4421\n",
            "Average R² Score: 0.7365\n",
            "XGBoost Regression: (19.442144114878275, 0.7364893907267603)\n"
          ]
        },
        {
          "output_type": "stream",
          "name": "stderr",
          "text": [
            "\n"
          ]
        }
      ]
    },
    {
      "cell_type": "code",
      "source": [
        "from xgboost import XGBRegressor\n",
        "from sklearn.model_selection import GridSearchCV\n",
        "from sklearn.metrics import mean_squared_error, r2_score\n",
        "from sklearn.model_selection import KFold\n",
        "import numpy as np\n",
        "import pandas as pd\n",
        "from tqdm import tqdm\n",
        "\n",
        "def cross_validate_with_grid_search(model, param_grid, X, y, n_splits=5, random_state=42):\n",
        "    kf = KFold(n_splits=n_splits, shuffle=True, random_state=random_state)\n",
        "\n",
        "    grid_search = GridSearchCV(\n",
        "        estimator=model,\n",
        "        param_grid=param_grid,\n",
        "        scoring='neg_mean_squared_error',\n",
        "        cv=kf,\n",
        "        n_jobs=-1,\n",
        "        verbose=1\n",
        "    )\n",
        "\n",
        "    grid_search.fit(X, y)\n",
        "\n",
        "    print(f\"Best parameters found: {grid_search.best_params_}\")\n",
        "    print(f\"Best score found: {-grid_search.best_score_:.4f}\")\n",
        "\n",
        "    best_model = grid_search.best_estimator_\n",
        "\n",
        "    # Evaluate the best model\n",
        "    mse_scores = []\n",
        "    r2_scores = []\n",
        "\n",
        "    for train_index, test_index in kf.split(X):\n",
        "        X_train, X_test = X.iloc[train_index], X.iloc[test_index]\n",
        "        y_train, y_test = y.iloc[train_index], y.iloc[test_index]\n",
        "\n",
        "        best_model.fit(X_train, y_train)\n",
        "        predictions = best_model.predict(X_test)\n",
        "\n",
        "        mse_score = mean_squared_error(y_test, predictions)\n",
        "        r2_score_value = r2_score(y_test, predictions)\n",
        "\n",
        "        mse_scores.append(mse_score)\n",
        "        r2_scores.append(r2_score_value)\n",
        "\n",
        "    avg_mse = np.mean(mse_scores)\n",
        "    avg_r2 = np.mean(r2_scores)\n",
        "\n",
        "    print(f\"Average Mean Squared Error: {avg_mse:.4f}\")\n",
        "    print(f\"Average R² Score: {avg_r2:.4f}\")\n",
        "\n",
        "    return best_model, avg_mse, avg_r2\n",
        "\n",
        "# Define parameter grid for XGBoost\n",
        "param_grid = {\n",
        "    'n_estimators': [100, 200, 300],\n",
        "    'learning_rate': [0.01, 0.1, 0.2],\n",
        "    'max_depth': [3, 5, 7],\n",
        "    'min_child_weight': [1, 3, 5],\n",
        "    'subsample': [0.8, 0.9, 1.0],\n",
        "    'colsample_bytree': [0.8, 0.9, 1.0]\n",
        "}\n",
        "\n",
        "\n",
        "\n",
        "# Define XGBoost model\n",
        "xgb_model = XGBRegressor()\n",
        "\n",
        "# Perform Grid Search\n",
        "print(\"Testing XGBoost with Hyperparameter Tuning\")\n",
        "best_xgb_model, avg_mse, avg_r2 = cross_validate_with_grid_search(xgb_model, param_grid, X, Y)\n",
        "\n",
        "print(\"XGBoost Regression:\")\n",
        "print(f\"Average Mean Squared Error: {avg_mse:.4f}\")\n",
        "print(f\"Average R² Score: {avg_r2:.4f}\")\n"
      ],
      "metadata": {
        "colab": {
          "base_uri": "https://localhost:8080/"
        },
        "id": "D2datWQ6dVmR",
        "outputId": "fffacf44-46e3-442c-84ce-21228ca56dc5"
      },
      "execution_count": 38,
      "outputs": [
        {
          "output_type": "stream",
          "name": "stdout",
          "text": [
            "Testing XGBoost with Hyperparameter Tuning\n",
            "Fitting 5 folds for each of 729 candidates, totalling 3645 fits\n",
            "Best parameters found: {'colsample_bytree': 0.9, 'learning_rate': 0.2, 'max_depth': 7, 'min_child_weight': 3, 'n_estimators': 100, 'subsample': 0.9}\n",
            "Best score found: 17.3124\n",
            "Average Mean Squared Error: 17.3124\n",
            "Average R² Score: 0.7661\n",
            "XGBoost Regression:\n",
            "Average Mean Squared Error: 17.3124\n",
            "Average R² Score: 0.7661\n"
          ]
        }
      ]
    },
    {
      "cell_type": "code",
      "source": [
        "X.shape"
      ],
      "metadata": {
        "colab": {
          "base_uri": "https://localhost:8080/"
        },
        "id": "HNgI3CZ9i-5O",
        "outputId": "87d9eda8-86b5-41c5-e312-3de6123f9fa5"
      },
      "execution_count": 44,
      "outputs": [
        {
          "output_type": "execute_result",
          "data": {
            "text/plain": [
              "(2000, 7)"
            ]
          },
          "metadata": {},
          "execution_count": 44
        }
      ]
    },
    {
      "cell_type": "code",
      "source": [
        "from xgboost import XGBRegressor\n",
        "from sklearn.model_selection import RandomizedSearchCV, train_test_split\n",
        "from sklearn.metrics import r2_score, mean_squared_error\n",
        "import pandas as pd\n",
        "\n",
        "# Define parameter grid for XGBoost\n",
        "param_grid = {\n",
        "    'n_estimators': [50, 100, 150, 200], # Number of boosting rounds\n",
        "    'max_depth': [3, 5, 7, 9], # Maximum depth of a tree\n",
        "    'learning_rate': [0.01, 0.05, 0.1], # Step size shrinkage to prevent overfitting\n",
        "    'subsample': [0.6, 0.8, 1.0], # Subsample ratio of the training instances\n",
        "    'colsample_bytree': [0.6, 0.8, 1.0], # Subsample ratio of columns when constructing each tree\n",
        "    'gamma': [0, 0.1, 0.2], # Minimum loss reduction required to make a further partition on a leaf node\n",
        "    'reg_alpha': [0, 0.1, 0.5, 1], # L1 regularization term on weights\n",
        "    'reg_lambda': [0, 0.1, 0.5, 1] # L2 regularization term on weights\n",
        "}\n",
        "\n",
        "\n",
        "\n",
        "# Split data into training and test sets\n",
        "X_train, X_test, y_train, y_test = train_test_split(X, Y, test_size=0.2, random_state=42)\n",
        "\n",
        "# Initialize the XGBoost regressor\n",
        "xgb_model = XGBRegressor()\n",
        "\n",
        "# Initialize RandomizedSearchCV\n",
        "randomized_search = RandomizedSearchCV(\n",
        "    estimator=xgb_model,\n",
        "    param_distributions=param_grid,\n",
        "    n_iter=50, # Number of parameter settings that are sampled\n",
        "    scoring='r2', # Use R² score as evaluation metric\n",
        "    cv=5, # Number of folds in cross-validation\n",
        "    verbose=1,\n",
        "    random_state=42\n",
        ")\n",
        "\n",
        "# Perform randomized search on the training data\n",
        "randomized_search.fit(X_train, y_train)\n",
        "\n",
        "# Print the best parameters and best R² score\n",
        "print(\"Best parameters found: \", randomized_search.best_params_)\n",
        "print(\"Best R² score: {:.2f}\".format(randomized_search.best_score_))\n",
        "\n",
        "# Get the best model\n",
        "best_xgb_model = randomized_search.best_estimator_\n",
        "\n",
        "# Make predictions on the test data using the best model\n",
        "y_pred = best_xgb_model.predict(X_test)\n",
        "\n",
        "# Calculate R² score and Mean Squared Error on test data\n",
        "r2 = r2_score(y_test, y_pred)\n",
        "mse = mean_squared_error(y_test, y_pred)\n",
        "\n",
        "print(\"Test R² score: {:.2f}\".format(r2))\n",
        "print(\"Test Mean Squared Error: {:.4f}\".format(mse))\n"
      ],
      "metadata": {
        "colab": {
          "base_uri": "https://localhost:8080/"
        },
        "id": "uOcX_DcgjRhw",
        "outputId": "19fa1998-8701-4a36-b673-0654881e9138"
      },
      "execution_count": 45,
      "outputs": [
        {
          "output_type": "stream",
          "name": "stdout",
          "text": [
            "Fitting 5 folds for each of 50 candidates, totalling 250 fits\n",
            "Best parameters found:  {'subsample': 0.6, 'reg_lambda': 0.5, 'reg_alpha': 0.1, 'n_estimators': 100, 'max_depth': 9, 'learning_rate': 0.1, 'gamma': 0.1, 'colsample_bytree': 0.8}\n",
            "Best R² score: 0.75\n",
            "Test R² score: 0.75\n",
            "Test Mean Squared Error: 19.1809\n"
          ]
        }
      ]
    },
    {
      "cell_type": "code",
      "source": [],
      "metadata": {
        "id": "6NJt7Bylj28G"
      },
      "execution_count": null,
      "outputs": []
    }
  ]
}